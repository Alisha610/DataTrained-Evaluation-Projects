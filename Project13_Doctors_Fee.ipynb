{
 "cells": [
  {
   "cell_type": "code",
   "execution_count": 1,
   "metadata": {},
   "outputs": [],
   "source": [
    "# importing all the necessary librabries\n",
    "import pandas as pd\n",
    "import numpy as np\n",
    "import matplotlib.pyplot as plt\n",
    "import seaborn as sns\n",
    "\n",
    "# importing the warnings\n",
    "import warnings\n",
    "warnings.filterwarnings('ignore')"
   ]
  },
  {
   "cell_type": "code",
   "execution_count": 2,
   "metadata": {
    "scrolled": true
   },
   "outputs": [
    {
     "data": {
      "text/html": [
       "<div>\n",
       "<style scoped>\n",
       "    .dataframe tbody tr th:only-of-type {\n",
       "        vertical-align: middle;\n",
       "    }\n",
       "\n",
       "    .dataframe tbody tr th {\n",
       "        vertical-align: top;\n",
       "    }\n",
       "\n",
       "    .dataframe thead th {\n",
       "        text-align: right;\n",
       "    }\n",
       "</style>\n",
       "<table border=\"1\" class=\"dataframe\">\n",
       "  <thead>\n",
       "    <tr style=\"text-align: right;\">\n",
       "      <th></th>\n",
       "      <th>Qualification</th>\n",
       "      <th>Experience</th>\n",
       "      <th>Rating</th>\n",
       "      <th>Place</th>\n",
       "      <th>Profile</th>\n",
       "      <th>Miscellaneous_Info</th>\n",
       "      <th>Fees</th>\n",
       "    </tr>\n",
       "  </thead>\n",
       "  <tbody>\n",
       "    <tr>\n",
       "      <th>0</th>\n",
       "      <td>BHMS, MD - Homeopathy</td>\n",
       "      <td>24 years experience</td>\n",
       "      <td>100%</td>\n",
       "      <td>Kakkanad, Ernakulam</td>\n",
       "      <td>Homeopath</td>\n",
       "      <td>100% 16 Feedback Kakkanad, Ernakulam</td>\n",
       "      <td>100</td>\n",
       "    </tr>\n",
       "    <tr>\n",
       "      <th>1</th>\n",
       "      <td>BAMS, MD - Ayurveda Medicine</td>\n",
       "      <td>12 years experience</td>\n",
       "      <td>98%</td>\n",
       "      <td>Whitefield, Bangalore</td>\n",
       "      <td>Ayurveda</td>\n",
       "      <td>98% 76 Feedback Whitefield, Bangalore</td>\n",
       "      <td>350</td>\n",
       "    </tr>\n",
       "    <tr>\n",
       "      <th>2</th>\n",
       "      <td>MBBS, MS - Otorhinolaryngology</td>\n",
       "      <td>9 years experience</td>\n",
       "      <td>NaN</td>\n",
       "      <td>Mathikere - BEL, Bangalore</td>\n",
       "      <td>ENT Specialist</td>\n",
       "      <td>NaN</td>\n",
       "      <td>300</td>\n",
       "    </tr>\n",
       "    <tr>\n",
       "      <th>3</th>\n",
       "      <td>BSc - Zoology, BAMS</td>\n",
       "      <td>12 years experience</td>\n",
       "      <td>NaN</td>\n",
       "      <td>Bannerghatta Road, Bangalore</td>\n",
       "      <td>Ayurveda</td>\n",
       "      <td>Bannerghatta Road, Bangalore ₹250 Available on...</td>\n",
       "      <td>250</td>\n",
       "    </tr>\n",
       "    <tr>\n",
       "      <th>4</th>\n",
       "      <td>BAMS</td>\n",
       "      <td>20 years experience</td>\n",
       "      <td>100%</td>\n",
       "      <td>Keelkattalai, Chennai</td>\n",
       "      <td>Ayurveda</td>\n",
       "      <td>100% 4 Feedback Keelkattalai, Chennai</td>\n",
       "      <td>250</td>\n",
       "    </tr>\n",
       "    <tr>\n",
       "      <th>...</th>\n",
       "      <td>...</td>\n",
       "      <td>...</td>\n",
       "      <td>...</td>\n",
       "      <td>...</td>\n",
       "      <td>...</td>\n",
       "      <td>...</td>\n",
       "      <td>...</td>\n",
       "    </tr>\n",
       "    <tr>\n",
       "      <th>5956</th>\n",
       "      <td>MBBS, MS - ENT</td>\n",
       "      <td>19 years experience</td>\n",
       "      <td>98%</td>\n",
       "      <td>Basavanagudi, Bangalore</td>\n",
       "      <td>ENT Specialist</td>\n",
       "      <td>98% 45 Feedback Basavanagudi, Bangalore</td>\n",
       "      <td>300</td>\n",
       "    </tr>\n",
       "    <tr>\n",
       "      <th>5957</th>\n",
       "      <td>MBBS</td>\n",
       "      <td>33 years experience</td>\n",
       "      <td>NaN</td>\n",
       "      <td>Nungambakkam, Chennai</td>\n",
       "      <td>General Medicine</td>\n",
       "      <td>NaN</td>\n",
       "      <td>100</td>\n",
       "    </tr>\n",
       "    <tr>\n",
       "      <th>5958</th>\n",
       "      <td>MBBS</td>\n",
       "      <td>41 years experience</td>\n",
       "      <td>97%</td>\n",
       "      <td>Greater Kailash Part 2, Delhi</td>\n",
       "      <td>General Medicine</td>\n",
       "      <td>97% 11 Feedback Greater Kailash Part 2, Delhi</td>\n",
       "      <td>600</td>\n",
       "    </tr>\n",
       "    <tr>\n",
       "      <th>5959</th>\n",
       "      <td>MBBS, MD - General Medicine</td>\n",
       "      <td>15 years experience</td>\n",
       "      <td>90%</td>\n",
       "      <td>Vileparle West, Mumbai</td>\n",
       "      <td>General Medicine</td>\n",
       "      <td>General Medical Consultation Viral Fever Treat...</td>\n",
       "      <td>100</td>\n",
       "    </tr>\n",
       "    <tr>\n",
       "      <th>5960</th>\n",
       "      <td>BDS, MDS - Orthodontics</td>\n",
       "      <td>17 years experience</td>\n",
       "      <td>100%</td>\n",
       "      <td>Pitampura, Delhi</td>\n",
       "      <td>Dentist</td>\n",
       "      <td>Acrylic Partial Denture Crowns and Bridges Fix...</td>\n",
       "      <td>200</td>\n",
       "    </tr>\n",
       "  </tbody>\n",
       "</table>\n",
       "<p>5961 rows × 7 columns</p>\n",
       "</div>"
      ],
      "text/plain": [
       "                       Qualification           Experience Rating  \\\n",
       "0              BHMS, MD - Homeopathy  24 years experience   100%   \n",
       "1       BAMS, MD - Ayurveda Medicine  12 years experience    98%   \n",
       "2     MBBS, MS - Otorhinolaryngology   9 years experience    NaN   \n",
       "3                BSc - Zoology, BAMS  12 years experience    NaN   \n",
       "4                               BAMS  20 years experience   100%   \n",
       "...                              ...                  ...    ...   \n",
       "5956                  MBBS, MS - ENT  19 years experience    98%   \n",
       "5957                            MBBS  33 years experience    NaN   \n",
       "5958                            MBBS  41 years experience    97%   \n",
       "5959     MBBS, MD - General Medicine  15 years experience    90%   \n",
       "5960         BDS, MDS - Orthodontics  17 years experience   100%   \n",
       "\n",
       "                              Place           Profile  \\\n",
       "0               Kakkanad, Ernakulam         Homeopath   \n",
       "1             Whitefield, Bangalore          Ayurveda   \n",
       "2        Mathikere - BEL, Bangalore    ENT Specialist   \n",
       "3      Bannerghatta Road, Bangalore          Ayurveda   \n",
       "4             Keelkattalai, Chennai          Ayurveda   \n",
       "...                             ...               ...   \n",
       "5956        Basavanagudi, Bangalore    ENT Specialist   \n",
       "5957          Nungambakkam, Chennai  General Medicine   \n",
       "5958  Greater Kailash Part 2, Delhi  General Medicine   \n",
       "5959         Vileparle West, Mumbai  General Medicine   \n",
       "5960               Pitampura, Delhi           Dentist   \n",
       "\n",
       "                                     Miscellaneous_Info  Fees  \n",
       "0                  100% 16 Feedback Kakkanad, Ernakulam   100  \n",
       "1                 98% 76 Feedback Whitefield, Bangalore   350  \n",
       "2                                                   NaN   300  \n",
       "3     Bannerghatta Road, Bangalore ₹250 Available on...   250  \n",
       "4                 100% 4 Feedback Keelkattalai, Chennai   250  \n",
       "...                                                 ...   ...  \n",
       "5956            98% 45 Feedback Basavanagudi, Bangalore   300  \n",
       "5957                                                NaN   100  \n",
       "5958      97% 11 Feedback Greater Kailash Part 2, Delhi   600  \n",
       "5959  General Medical Consultation Viral Fever Treat...   100  \n",
       "5960  Acrylic Partial Denture Crowns and Bridges Fix...   200  \n",
       "\n",
       "[5961 rows x 7 columns]"
      ]
     },
     "execution_count": 2,
     "metadata": {},
     "output_type": "execute_result"
    }
   ],
   "source": [
    "# loading the train dataset\n",
    "df = pd.read_excel('Final_Train.xlsx')\n",
    "df"
   ]
  },
  {
   "cell_type": "code",
   "execution_count": 3,
   "metadata": {
    "scrolled": true
   },
   "outputs": [
    {
     "data": {
      "text/html": [
       "<div>\n",
       "<style scoped>\n",
       "    .dataframe tbody tr th:only-of-type {\n",
       "        vertical-align: middle;\n",
       "    }\n",
       "\n",
       "    .dataframe tbody tr th {\n",
       "        vertical-align: top;\n",
       "    }\n",
       "\n",
       "    .dataframe thead th {\n",
       "        text-align: right;\n",
       "    }\n",
       "</style>\n",
       "<table border=\"1\" class=\"dataframe\">\n",
       "  <thead>\n",
       "    <tr style=\"text-align: right;\">\n",
       "      <th></th>\n",
       "      <th>Qualification</th>\n",
       "      <th>Experience</th>\n",
       "      <th>Rating</th>\n",
       "      <th>Place</th>\n",
       "      <th>Profile</th>\n",
       "      <th>Miscellaneous_Info</th>\n",
       "    </tr>\n",
       "  </thead>\n",
       "  <tbody>\n",
       "    <tr>\n",
       "      <th>0</th>\n",
       "      <td>MBBS</td>\n",
       "      <td>35 years experience</td>\n",
       "      <td>NaN</td>\n",
       "      <td>Ghatkopar East, Mumbai</td>\n",
       "      <td>General Medicine</td>\n",
       "      <td>NaN</td>\n",
       "    </tr>\n",
       "    <tr>\n",
       "      <th>1</th>\n",
       "      <td>MBBS, Diploma in Otorhinolaryngology (DLO)</td>\n",
       "      <td>31 years experience</td>\n",
       "      <td>NaN</td>\n",
       "      <td>West Marredpally, Hyderabad</td>\n",
       "      <td>ENT Specialist</td>\n",
       "      <td>NaN</td>\n",
       "    </tr>\n",
       "    <tr>\n",
       "      <th>2</th>\n",
       "      <td>MBBS, DDVL</td>\n",
       "      <td>40 years experience</td>\n",
       "      <td>70%</td>\n",
       "      <td>KK Nagar, Chennai</td>\n",
       "      <td>Dermatologists</td>\n",
       "      <td>70% 4 Feedback KK Nagar, Chennai</td>\n",
       "    </tr>\n",
       "    <tr>\n",
       "      <th>3</th>\n",
       "      <td>BAMS</td>\n",
       "      <td>0 years experience</td>\n",
       "      <td>NaN</td>\n",
       "      <td>New Ashok Nagar, Delhi</td>\n",
       "      <td>Ayurveda</td>\n",
       "      <td>NaN</td>\n",
       "    </tr>\n",
       "    <tr>\n",
       "      <th>4</th>\n",
       "      <td>BDS, MDS - Conservative Dentistry &amp; Endodontics</td>\n",
       "      <td>16 years experience</td>\n",
       "      <td>100%</td>\n",
       "      <td>Kanakpura Road, Bangalore</td>\n",
       "      <td>Dentist</td>\n",
       "      <td>General Dentistry Conservative Dentistry Cosme...</td>\n",
       "    </tr>\n",
       "    <tr>\n",
       "      <th>...</th>\n",
       "      <td>...</td>\n",
       "      <td>...</td>\n",
       "      <td>...</td>\n",
       "      <td>...</td>\n",
       "      <td>...</td>\n",
       "      <td>...</td>\n",
       "    </tr>\n",
       "    <tr>\n",
       "      <th>1982</th>\n",
       "      <td>BAMS, Doctor of Medicine</td>\n",
       "      <td>10 years experience</td>\n",
       "      <td>NaN</td>\n",
       "      <td>Basavanagudi, Bangalore</td>\n",
       "      <td>Ayurveda</td>\n",
       "      <td>NaN</td>\n",
       "    </tr>\n",
       "    <tr>\n",
       "      <th>1983</th>\n",
       "      <td>MD - Dermatology , Venereology &amp; Leprosy, MBBS</td>\n",
       "      <td>4 years experience</td>\n",
       "      <td>NaN</td>\n",
       "      <td>Choolai, Chennai</td>\n",
       "      <td>Dermatologists</td>\n",
       "      <td>NaN</td>\n",
       "    </tr>\n",
       "    <tr>\n",
       "      <th>1984</th>\n",
       "      <td>MBBS, MD / MS - Obstetrics &amp; Gynaecology</td>\n",
       "      <td>9 years experience</td>\n",
       "      <td>NaN</td>\n",
       "      <td>Porur, Chennai</td>\n",
       "      <td>General Medicine</td>\n",
       "      <td>NaN</td>\n",
       "    </tr>\n",
       "    <tr>\n",
       "      <th>1985</th>\n",
       "      <td>BDS</td>\n",
       "      <td>12 years experience</td>\n",
       "      <td>98%</td>\n",
       "      <td>Arekere, Bangalore</td>\n",
       "      <td>Dentist</td>\n",
       "      <td>RCT - Root Canal Treatment Root Canal Treatmen...</td>\n",
       "    </tr>\n",
       "    <tr>\n",
       "      <th>1986</th>\n",
       "      <td>MBBS, MD - Dermatology , Venereology &amp; Leprosy</td>\n",
       "      <td>8 years experience</td>\n",
       "      <td>NaN</td>\n",
       "      <td>Pallikaranai, Chennai</td>\n",
       "      <td>Dermatologists</td>\n",
       "      <td>1 Feedback Pallikaranai, Chennai ₹500</td>\n",
       "    </tr>\n",
       "  </tbody>\n",
       "</table>\n",
       "<p>1987 rows × 6 columns</p>\n",
       "</div>"
      ],
      "text/plain": [
       "                                        Qualification           Experience  \\\n",
       "0                                                MBBS  35 years experience   \n",
       "1          MBBS, Diploma in Otorhinolaryngology (DLO)  31 years experience   \n",
       "2                                          MBBS, DDVL  40 years experience   \n",
       "3                                                BAMS   0 years experience   \n",
       "4     BDS, MDS - Conservative Dentistry & Endodontics  16 years experience   \n",
       "...                                               ...                  ...   \n",
       "1982                         BAMS, Doctor of Medicine  10 years experience   \n",
       "1983   MD - Dermatology , Venereology & Leprosy, MBBS   4 years experience   \n",
       "1984         MBBS, MD / MS - Obstetrics & Gynaecology   9 years experience   \n",
       "1985                                              BDS  12 years experience   \n",
       "1986   MBBS, MD - Dermatology , Venereology & Leprosy   8 years experience   \n",
       "\n",
       "     Rating                        Place           Profile  \\\n",
       "0       NaN       Ghatkopar East, Mumbai  General Medicine   \n",
       "1       NaN  West Marredpally, Hyderabad    ENT Specialist   \n",
       "2       70%            KK Nagar, Chennai    Dermatologists   \n",
       "3       NaN       New Ashok Nagar, Delhi          Ayurveda   \n",
       "4      100%    Kanakpura Road, Bangalore           Dentist   \n",
       "...     ...                          ...               ...   \n",
       "1982    NaN      Basavanagudi, Bangalore          Ayurveda   \n",
       "1983    NaN             Choolai, Chennai    Dermatologists   \n",
       "1984    NaN               Porur, Chennai  General Medicine   \n",
       "1985    98%           Arekere, Bangalore           Dentist   \n",
       "1986    NaN        Pallikaranai, Chennai    Dermatologists   \n",
       "\n",
       "                                     Miscellaneous_Info  \n",
       "0                                                   NaN  \n",
       "1                                                   NaN  \n",
       "2                      70% 4 Feedback KK Nagar, Chennai  \n",
       "3                                                   NaN  \n",
       "4     General Dentistry Conservative Dentistry Cosme...  \n",
       "...                                                 ...  \n",
       "1982                                                NaN  \n",
       "1983                                                NaN  \n",
       "1984                                                NaN  \n",
       "1985  RCT - Root Canal Treatment Root Canal Treatmen...  \n",
       "1986              1 Feedback Pallikaranai, Chennai ₹500  \n",
       "\n",
       "[1987 rows x 6 columns]"
      ]
     },
     "execution_count": 3,
     "metadata": {},
     "output_type": "execute_result"
    }
   ],
   "source": [
    "# loading the test dataset\n",
    "df_test = pd.read_excel('Final_Test.xlsx')\n",
    "df_test"
   ]
  },
  {
   "cell_type": "code",
   "execution_count": 4,
   "metadata": {},
   "outputs": [
    {
     "data": {
      "text/plain": [
       "(5961, 7)"
      ]
     },
     "execution_count": 4,
     "metadata": {},
     "output_type": "execute_result"
    }
   ],
   "source": [
    "# Checking the shape of the train dataset\n",
    "df.shape"
   ]
  },
  {
   "cell_type": "markdown",
   "metadata": {},
   "source": [
    "The train dataset has 5961 rows and 7 columns"
   ]
  },
  {
   "cell_type": "code",
   "execution_count": 5,
   "metadata": {},
   "outputs": [
    {
     "data": {
      "text/plain": [
       "(1987, 6)"
      ]
     },
     "execution_count": 5,
     "metadata": {},
     "output_type": "execute_result"
    }
   ],
   "source": [
    "# Checking the shape of the test dataset\n",
    "df_test.shape"
   ]
  },
  {
   "cell_type": "markdown",
   "metadata": {},
   "source": [
    "The test dataset has 1987 rows and 6 columns"
   ]
  },
  {
   "cell_type": "code",
   "execution_count": 6,
   "metadata": {},
   "outputs": [
    {
     "data": {
      "text/plain": [
       "Index(['Qualification', 'Experience', 'Rating', 'Place', 'Profile',\n",
       "       'Miscellaneous_Info', 'Fees'],\n",
       "      dtype='object')"
      ]
     },
     "execution_count": 6,
     "metadata": {},
     "output_type": "execute_result"
    }
   ],
   "source": [
    "# Cloumns of the train dataset\n",
    "df.columns"
   ]
  },
  {
   "cell_type": "code",
   "execution_count": 7,
   "metadata": {},
   "outputs": [
    {
     "data": {
      "text/plain": [
       "Index(['Qualification', 'Experience', 'Rating', 'Place', 'Profile',\n",
       "       'Miscellaneous_Info'],\n",
       "      dtype='object')"
      ]
     },
     "execution_count": 7,
     "metadata": {},
     "output_type": "execute_result"
    }
   ],
   "source": [
    "# Cloumns of the test dataset\n",
    "df_test.columns"
   ]
  },
  {
   "cell_type": "markdown",
   "metadata": {},
   "source": [
    "# Checking For Missing Values"
   ]
  },
  {
   "cell_type": "code",
   "execution_count": 8,
   "metadata": {},
   "outputs": [
    {
     "data": {
      "text/plain": [
       "True"
      ]
     },
     "execution_count": 8,
     "metadata": {},
     "output_type": "execute_result"
    }
   ],
   "source": [
    "# Checking for missing values in the train dataset\n",
    "df.isnull().values.any()"
   ]
  },
  {
   "cell_type": "code",
   "execution_count": 9,
   "metadata": {},
   "outputs": [
    {
     "data": {
      "text/plain": [
       "True"
      ]
     },
     "execution_count": 9,
     "metadata": {},
     "output_type": "execute_result"
    }
   ],
   "source": [
    "# Checking for missing values in the test dataset\n",
    "df_test.isnull().values.any()"
   ]
  },
  {
   "cell_type": "code",
   "execution_count": 10,
   "metadata": {},
   "outputs": [
    {
     "data": {
      "text/plain": [
       "Qualification            0\n",
       "Experience               0\n",
       "Rating                3302\n",
       "Place                   25\n",
       "Profile                  0\n",
       "Miscellaneous_Info    2620\n",
       "Fees                     0\n",
       "dtype: int64"
      ]
     },
     "execution_count": 10,
     "metadata": {},
     "output_type": "execute_result"
    }
   ],
   "source": [
    "# Checking for missing values in the train dataset\n",
    "df.isnull().sum()"
   ]
  },
  {
   "cell_type": "markdown",
   "metadata": {},
   "source": [
    "In the train dataset:\n",
    "    1. Rating column  has 3302 missing values\n",
    "    2. Miscellaneous_Info has 2620 missing values"
   ]
  },
  {
   "cell_type": "code",
   "execution_count": 11,
   "metadata": {},
   "outputs": [
    {
     "data": {
      "text/plain": [
       "Qualification            0\n",
       "Experience               0\n",
       "Rating                1090\n",
       "Place                    6\n",
       "Profile                  0\n",
       "Miscellaneous_Info     834\n",
       "dtype: int64"
      ]
     },
     "execution_count": 11,
     "metadata": {},
     "output_type": "execute_result"
    }
   ],
   "source": [
    "# Checking for missing values in the test dataset\n",
    "df_test.isnull().sum()"
   ]
  },
  {
   "cell_type": "markdown",
   "metadata": {},
   "source": [
    "In the test dataset:\n",
    "    1. Rating column  has 1090 missing values\n",
    "    2. Miscellaneous_Info has 834 missing values"
   ]
  },
  {
   "cell_type": "code",
   "execution_count": 12,
   "metadata": {},
   "outputs": [
    {
     "name": "stdout",
     "output_type": "stream",
     "text": [
      "<class 'pandas.core.frame.DataFrame'>\n",
      "RangeIndex: 5961 entries, 0 to 5960\n",
      "Data columns (total 7 columns):\n",
      " #   Column              Non-Null Count  Dtype \n",
      "---  ------              --------------  ----- \n",
      " 0   Qualification       5961 non-null   object\n",
      " 1   Experience          5961 non-null   object\n",
      " 2   Rating              2659 non-null   object\n",
      " 3   Place               5936 non-null   object\n",
      " 4   Profile             5961 non-null   object\n",
      " 5   Miscellaneous_Info  3341 non-null   object\n",
      " 6   Fees                5961 non-null   int64 \n",
      "dtypes: int64(1), object(6)\n",
      "memory usage: 326.1+ KB\n"
     ]
    }
   ],
   "source": [
    "# Checking the information of the train dataset\n",
    "df.info()"
   ]
  },
  {
   "cell_type": "code",
   "execution_count": 13,
   "metadata": {},
   "outputs": [
    {
     "name": "stdout",
     "output_type": "stream",
     "text": [
      "<class 'pandas.core.frame.DataFrame'>\n",
      "RangeIndex: 1987 entries, 0 to 1986\n",
      "Data columns (total 6 columns):\n",
      " #   Column              Non-Null Count  Dtype \n",
      "---  ------              --------------  ----- \n",
      " 0   Qualification       1987 non-null   object\n",
      " 1   Experience          1987 non-null   object\n",
      " 2   Rating              897 non-null    object\n",
      " 3   Place               1981 non-null   object\n",
      " 4   Profile             1987 non-null   object\n",
      " 5   Miscellaneous_Info  1153 non-null   object\n",
      "dtypes: object(6)\n",
      "memory usage: 93.3+ KB\n"
     ]
    }
   ],
   "source": [
    "# Checking the information of the test dataset\n",
    "df_test.info()"
   ]
  },
  {
   "cell_type": "markdown",
   "metadata": {},
   "source": [
    "Rating and Miscellaneous_Info are both of object datatype."
   ]
  },
  {
   "cell_type": "code",
   "execution_count": 14,
   "metadata": {},
   "outputs": [
    {
     "data": {
      "text/plain": [
       "Acrylic Partial Denture Crowns and Bridges Fixing Artificial Teeth                      40\n",
       "Tooth Extraction Dental Fillings Scaling / Polishing                                    12\n",
       "Dental Fillings Zirconia Crowns Dental Implant Fixing                                   12\n",
       "Skin Disease Treatment Kidney Stone Treatment Gall Bladder (Biliary) Stone Treatment     9\n",
       "Skin Allergy Treatment Skin Allergies Dermabrasion                                       9\n",
       "                                                                                        ..\n",
       "98% 179 Feedback Kalkaji, Delhi                                                          1\n",
       "96% 15 Feedback Karamana, Thiruvananthapuram                                             1\n",
       "Scaling / Polishing Smile Design General Dentistry                                       1\n",
       "97% 88 Feedback Vileparle East, Mumbai                                                   1\n",
       "Saket, Delhi ₹600 Available Tomorrow                                                     1\n",
       "Name: Miscellaneous_Info, Length: 2998, dtype: int64"
      ]
     },
     "execution_count": 14,
     "metadata": {},
     "output_type": "execute_result"
    }
   ],
   "source": [
    "df['Miscellaneous_Info'].value_counts()"
   ]
  },
  {
   "cell_type": "code",
   "execution_count": 15,
   "metadata": {},
   "outputs": [
    {
     "data": {
      "text/plain": [
       "2998"
      ]
     },
     "execution_count": 15,
     "metadata": {},
     "output_type": "execute_result"
    }
   ],
   "source": [
    "df['Miscellaneous_Info'].nunique()"
   ]
  },
  {
   "cell_type": "code",
   "execution_count": 16,
   "metadata": {},
   "outputs": [],
   "source": [
    "# Filling the missing values in Rating column\n",
    "df['Rating'].fillna('0%', inplace=True)\n",
    "df_test['Rating'].fillna('0%', inplace=True)"
   ]
  },
  {
   "cell_type": "code",
   "execution_count": 17,
   "metadata": {},
   "outputs": [],
   "source": [
    "# Filling the missing values in Miscellaneous_Info column\n",
    "df['Miscellaneous_Info'].fillna('missing', inplace=True)\n",
    "df_test['Miscellaneous_Info'].fillna('missing', inplace=True)"
   ]
  },
  {
   "cell_type": "markdown",
   "metadata": {},
   "source": [
    "# Cleaning the Train dataset"
   ]
  },
  {
   "cell_type": "code",
   "execution_count": 18,
   "metadata": {},
   "outputs": [],
   "source": [
    "#  Cleaning the Rating column \n",
    "import re\n",
    "Rating = list(df['Rating'])\n",
    "for i in range(len(Rating)):\n",
    "    Rating[i] = re.sub(r'%', '', str(Rating[i]))\n",
    "    \n",
    "df['Rating'] = Rating\n",
    "df['Rating'] = df['Rating'].astype(int)"
   ]
  },
  {
   "cell_type": "code",
   "execution_count": 19,
   "metadata": {},
   "outputs": [],
   "source": [
    "#  Splitting the Miscellaneous_Info column \n",
    "def get_feedback(feedback):\n",
    "    feedback = re.findall(r'\\d+ Feedback', str(feedback))\n",
    "    if feedback == []:\n",
    "        feedback = '0 Feedback'\n",
    "        return feedback\n",
    "    else:\n",
    "        return feedback[0]\n",
    "\n",
    "df['Feedback'] = df['Miscellaneous_Info'].apply(get_feedback)\n",
    "df['Feedback'] = df['Feedback'].str.replace(' Feedback','')\n",
    "df['Feedback'] = df['Feedback'].astype(int)\n",
    "\n",
    "def fee(text):\n",
    "    text = re.sub(r',', \"\", text)\n",
    "    text = re.findall(r'₹\\d+', text)\n",
    "    if text != []:\n",
    "        return text[0]\n",
    "    else:\n",
    "        return 0\n",
    "\n",
    "df['Miscellaneous_Fees'] = df['Miscellaneous_Info'].apply(fee)\n",
    "df['Miscellaneous_Fees'] = df['Miscellaneous_Fees'].str.replace('₹','')\n",
    "df['Miscellaneous_Fees'].fillna(df['Miscellaneous_Fees'].mode()[0], inplace=True)\n",
    "df['Miscellaneous_Fees'] = df['Miscellaneous_Fees'].astype(int)\n",
    "\n",
    "df.drop(\"Miscellaneous_Info\",axis=1,inplace=True)"
   ]
  },
  {
   "cell_type": "code",
   "execution_count": 20,
   "metadata": {},
   "outputs": [],
   "source": [
    "#  Cleaning the Experience column \n",
    "df['Experience'] = df['Experience'].str.replace('years experience','').astype(int)"
   ]
  },
  {
   "cell_type": "code",
   "execution_count": 21,
   "metadata": {},
   "outputs": [
    {
     "data": {
      "text/plain": [
       "1420"
      ]
     },
     "execution_count": 21,
     "metadata": {},
     "output_type": "execute_result"
    }
   ],
   "source": [
    "df['Qualification'].nunique()"
   ]
  },
  {
   "cell_type": "code",
   "execution_count": 22,
   "metadata": {},
   "outputs": [],
   "source": [
    "#  Splitting the Place column \n",
    "df[\"Place\"].fillna(\"missing,missing\",inplace=True)\n",
    "df[\"Place\"] = df[\"Place\"].str.split(\",\")\n",
    "df[\"City\"] = df[\"Place\"].str[-1]\n",
    "df[\"Place\"] = df[\"Place\"].str[0]"
   ]
  },
  {
   "cell_type": "code",
   "execution_count": 23,
   "metadata": {},
   "outputs": [
    {
     "data": {
      "text/plain": [
       "Qualification         0\n",
       "Experience            0\n",
       "Rating                0\n",
       "Place                 0\n",
       "Profile               0\n",
       "Fees                  0\n",
       "Feedback              0\n",
       "Miscellaneous_Fees    0\n",
       "City                  0\n",
       "dtype: int64"
      ]
     },
     "execution_count": 23,
     "metadata": {},
     "output_type": "execute_result"
    }
   ],
   "source": [
    "df.isnull().sum()"
   ]
  },
  {
   "cell_type": "code",
   "execution_count": 24,
   "metadata": {},
   "outputs": [
    {
     "data": {
      "text/plain": [
       "array([' Ernakulam', ' Bangalore', ' Chennai', ' Delhi', ' Hyderabad',\n",
       "       ' Coimbatore', ' Mumbai', ' Thiruvananthapuram', 'missing', 'e'],\n",
       "      dtype=object)"
      ]
     },
     "execution_count": 24,
     "metadata": {},
     "output_type": "execute_result"
    }
   ],
   "source": [
    "df['City'].unique()"
   ]
  },
  {
   "cell_type": "code",
   "execution_count": 25,
   "metadata": {},
   "outputs": [
    {
     "data": {
      "text/html": [
       "<div>\n",
       "<style scoped>\n",
       "    .dataframe tbody tr th:only-of-type {\n",
       "        vertical-align: middle;\n",
       "    }\n",
       "\n",
       "    .dataframe tbody tr th {\n",
       "        vertical-align: top;\n",
       "    }\n",
       "\n",
       "    .dataframe thead th {\n",
       "        text-align: right;\n",
       "    }\n",
       "</style>\n",
       "<table border=\"1\" class=\"dataframe\">\n",
       "  <thead>\n",
       "    <tr style=\"text-align: right;\">\n",
       "      <th></th>\n",
       "      <th>Qualification</th>\n",
       "      <th>Experience</th>\n",
       "      <th>Rating</th>\n",
       "      <th>Place</th>\n",
       "      <th>Profile</th>\n",
       "      <th>Fees</th>\n",
       "      <th>Feedback</th>\n",
       "      <th>Miscellaneous_Fees</th>\n",
       "      <th>City</th>\n",
       "    </tr>\n",
       "  </thead>\n",
       "  <tbody>\n",
       "    <tr>\n",
       "      <th>3980</th>\n",
       "      <td>BDS</td>\n",
       "      <td>23</td>\n",
       "      <td>0</td>\n",
       "      <td>e</td>\n",
       "      <td>Dentist</td>\n",
       "      <td>250</td>\n",
       "      <td>0</td>\n",
       "      <td>200</td>\n",
       "      <td>e</td>\n",
       "    </tr>\n",
       "  </tbody>\n",
       "</table>\n",
       "</div>"
      ],
      "text/plain": [
       "     Qualification  Experience  Rating Place  Profile  Fees  Feedback  \\\n",
       "3980           BDS          23       0     e  Dentist   250         0   \n",
       "\n",
       "      Miscellaneous_Fees City  \n",
       "3980                 200    e  "
      ]
     },
     "execution_count": 25,
     "metadata": {},
     "output_type": "execute_result"
    }
   ],
   "source": [
    "df.loc[df['City'] == 'e']"
   ]
  },
  {
   "cell_type": "code",
   "execution_count": 26,
   "metadata": {},
   "outputs": [
    {
     "data": {
      "text/html": [
       "<div>\n",
       "<style scoped>\n",
       "    .dataframe tbody tr th:only-of-type {\n",
       "        vertical-align: middle;\n",
       "    }\n",
       "\n",
       "    .dataframe tbody tr th {\n",
       "        vertical-align: top;\n",
       "    }\n",
       "\n",
       "    .dataframe thead th {\n",
       "        text-align: right;\n",
       "    }\n",
       "</style>\n",
       "<table border=\"1\" class=\"dataframe\">\n",
       "  <thead>\n",
       "    <tr style=\"text-align: right;\">\n",
       "      <th></th>\n",
       "      <th>Qualification</th>\n",
       "      <th>Experience</th>\n",
       "      <th>Rating</th>\n",
       "      <th>Place</th>\n",
       "      <th>Profile</th>\n",
       "      <th>Fees</th>\n",
       "      <th>Feedback</th>\n",
       "      <th>Miscellaneous_Fees</th>\n",
       "      <th>City</th>\n",
       "    </tr>\n",
       "  </thead>\n",
       "  <tbody>\n",
       "    <tr>\n",
       "      <th>3980</th>\n",
       "      <td>BDS</td>\n",
       "      <td>23</td>\n",
       "      <td>0</td>\n",
       "      <td>e</td>\n",
       "      <td>Dentist</td>\n",
       "      <td>250</td>\n",
       "      <td>0</td>\n",
       "      <td>200</td>\n",
       "      <td>e</td>\n",
       "    </tr>\n",
       "  </tbody>\n",
       "</table>\n",
       "</div>"
      ],
      "text/plain": [
       "     Qualification  Experience  Rating Place  Profile  Fees  Feedback  \\\n",
       "3980           BDS          23       0     e  Dentist   250         0   \n",
       "\n",
       "      Miscellaneous_Fees City  \n",
       "3980                 200    e  "
      ]
     },
     "execution_count": 26,
     "metadata": {},
     "output_type": "execute_result"
    }
   ],
   "source": [
    "df.loc[df['Place'] == 'e']"
   ]
  },
  {
   "cell_type": "code",
   "execution_count": 27,
   "metadata": {},
   "outputs": [],
   "source": [
    "df[\"City\"][3980] = \"missing\"\n",
    "df[\"Place\"][3980] = \"missing\""
   ]
  },
  {
   "cell_type": "code",
   "execution_count": 28,
   "metadata": {},
   "outputs": [
    {
     "data": {
      "text/html": [
       "<div>\n",
       "<style scoped>\n",
       "    .dataframe tbody tr th:only-of-type {\n",
       "        vertical-align: middle;\n",
       "    }\n",
       "\n",
       "    .dataframe tbody tr th {\n",
       "        vertical-align: top;\n",
       "    }\n",
       "\n",
       "    .dataframe thead th {\n",
       "        text-align: right;\n",
       "    }\n",
       "</style>\n",
       "<table border=\"1\" class=\"dataframe\">\n",
       "  <thead>\n",
       "    <tr style=\"text-align: right;\">\n",
       "      <th></th>\n",
       "      <th>Qualification</th>\n",
       "      <th>Experience</th>\n",
       "      <th>Rating</th>\n",
       "      <th>Place</th>\n",
       "      <th>Profile</th>\n",
       "      <th>Fees</th>\n",
       "      <th>Feedback</th>\n",
       "      <th>Miscellaneous_Fees</th>\n",
       "      <th>City</th>\n",
       "    </tr>\n",
       "  </thead>\n",
       "  <tbody>\n",
       "    <tr>\n",
       "      <th>0</th>\n",
       "      <td>BHMS, MD - Homeopathy</td>\n",
       "      <td>24</td>\n",
       "      <td>100</td>\n",
       "      <td>Kakkanad</td>\n",
       "      <td>Homeopath</td>\n",
       "      <td>100</td>\n",
       "      <td>16</td>\n",
       "      <td>200</td>\n",
       "      <td>Ernakulam</td>\n",
       "    </tr>\n",
       "    <tr>\n",
       "      <th>1</th>\n",
       "      <td>BAMS, MD - Ayurveda Medicine</td>\n",
       "      <td>12</td>\n",
       "      <td>98</td>\n",
       "      <td>Whitefield</td>\n",
       "      <td>Ayurveda</td>\n",
       "      <td>350</td>\n",
       "      <td>76</td>\n",
       "      <td>200</td>\n",
       "      <td>Bangalore</td>\n",
       "    </tr>\n",
       "    <tr>\n",
       "      <th>2</th>\n",
       "      <td>MBBS, MS - Otorhinolaryngology</td>\n",
       "      <td>9</td>\n",
       "      <td>0</td>\n",
       "      <td>Mathikere - BEL</td>\n",
       "      <td>ENT Specialist</td>\n",
       "      <td>300</td>\n",
       "      <td>0</td>\n",
       "      <td>200</td>\n",
       "      <td>Bangalore</td>\n",
       "    </tr>\n",
       "    <tr>\n",
       "      <th>3</th>\n",
       "      <td>BSc - Zoology, BAMS</td>\n",
       "      <td>12</td>\n",
       "      <td>0</td>\n",
       "      <td>Bannerghatta Road</td>\n",
       "      <td>Ayurveda</td>\n",
       "      <td>250</td>\n",
       "      <td>0</td>\n",
       "      <td>250</td>\n",
       "      <td>Bangalore</td>\n",
       "    </tr>\n",
       "    <tr>\n",
       "      <th>4</th>\n",
       "      <td>BAMS</td>\n",
       "      <td>20</td>\n",
       "      <td>100</td>\n",
       "      <td>Keelkattalai</td>\n",
       "      <td>Ayurveda</td>\n",
       "      <td>250</td>\n",
       "      <td>4</td>\n",
       "      <td>200</td>\n",
       "      <td>Chennai</td>\n",
       "    </tr>\n",
       "    <tr>\n",
       "      <th>...</th>\n",
       "      <td>...</td>\n",
       "      <td>...</td>\n",
       "      <td>...</td>\n",
       "      <td>...</td>\n",
       "      <td>...</td>\n",
       "      <td>...</td>\n",
       "      <td>...</td>\n",
       "      <td>...</td>\n",
       "      <td>...</td>\n",
       "    </tr>\n",
       "    <tr>\n",
       "      <th>5956</th>\n",
       "      <td>MBBS, MS - ENT</td>\n",
       "      <td>19</td>\n",
       "      <td>98</td>\n",
       "      <td>Basavanagudi</td>\n",
       "      <td>ENT Specialist</td>\n",
       "      <td>300</td>\n",
       "      <td>45</td>\n",
       "      <td>200</td>\n",
       "      <td>Bangalore</td>\n",
       "    </tr>\n",
       "    <tr>\n",
       "      <th>5957</th>\n",
       "      <td>MBBS</td>\n",
       "      <td>33</td>\n",
       "      <td>0</td>\n",
       "      <td>Nungambakkam</td>\n",
       "      <td>General Medicine</td>\n",
       "      <td>100</td>\n",
       "      <td>0</td>\n",
       "      <td>200</td>\n",
       "      <td>Chennai</td>\n",
       "    </tr>\n",
       "    <tr>\n",
       "      <th>5958</th>\n",
       "      <td>MBBS</td>\n",
       "      <td>41</td>\n",
       "      <td>97</td>\n",
       "      <td>Greater Kailash Part 2</td>\n",
       "      <td>General Medicine</td>\n",
       "      <td>600</td>\n",
       "      <td>11</td>\n",
       "      <td>200</td>\n",
       "      <td>Delhi</td>\n",
       "    </tr>\n",
       "    <tr>\n",
       "      <th>5959</th>\n",
       "      <td>MBBS, MD - General Medicine</td>\n",
       "      <td>15</td>\n",
       "      <td>90</td>\n",
       "      <td>Vileparle West</td>\n",
       "      <td>General Medicine</td>\n",
       "      <td>100</td>\n",
       "      <td>0</td>\n",
       "      <td>200</td>\n",
       "      <td>Mumbai</td>\n",
       "    </tr>\n",
       "    <tr>\n",
       "      <th>5960</th>\n",
       "      <td>BDS, MDS - Orthodontics</td>\n",
       "      <td>17</td>\n",
       "      <td>100</td>\n",
       "      <td>Pitampura</td>\n",
       "      <td>Dentist</td>\n",
       "      <td>200</td>\n",
       "      <td>0</td>\n",
       "      <td>200</td>\n",
       "      <td>Delhi</td>\n",
       "    </tr>\n",
       "  </tbody>\n",
       "</table>\n",
       "<p>5961 rows × 9 columns</p>\n",
       "</div>"
      ],
      "text/plain": [
       "                       Qualification  Experience  Rating  \\\n",
       "0              BHMS, MD - Homeopathy          24     100   \n",
       "1       BAMS, MD - Ayurveda Medicine          12      98   \n",
       "2     MBBS, MS - Otorhinolaryngology           9       0   \n",
       "3                BSc - Zoology, BAMS          12       0   \n",
       "4                               BAMS          20     100   \n",
       "...                              ...         ...     ...   \n",
       "5956                  MBBS, MS - ENT          19      98   \n",
       "5957                            MBBS          33       0   \n",
       "5958                            MBBS          41      97   \n",
       "5959     MBBS, MD - General Medicine          15      90   \n",
       "5960         BDS, MDS - Orthodontics          17     100   \n",
       "\n",
       "                       Place           Profile  Fees  Feedback  \\\n",
       "0                   Kakkanad         Homeopath   100        16   \n",
       "1                 Whitefield          Ayurveda   350        76   \n",
       "2            Mathikere - BEL    ENT Specialist   300         0   \n",
       "3          Bannerghatta Road          Ayurveda   250         0   \n",
       "4               Keelkattalai          Ayurveda   250         4   \n",
       "...                      ...               ...   ...       ...   \n",
       "5956            Basavanagudi    ENT Specialist   300        45   \n",
       "5957            Nungambakkam  General Medicine   100         0   \n",
       "5958  Greater Kailash Part 2  General Medicine   600        11   \n",
       "5959          Vileparle West  General Medicine   100         0   \n",
       "5960               Pitampura           Dentist   200         0   \n",
       "\n",
       "      Miscellaneous_Fees        City  \n",
       "0                    200   Ernakulam  \n",
       "1                    200   Bangalore  \n",
       "2                    200   Bangalore  \n",
       "3                    250   Bangalore  \n",
       "4                    200     Chennai  \n",
       "...                  ...         ...  \n",
       "5956                 200   Bangalore  \n",
       "5957                 200     Chennai  \n",
       "5958                 200       Delhi  \n",
       "5959                 200      Mumbai  \n",
       "5960                 200       Delhi  \n",
       "\n",
       "[5961 rows x 9 columns]"
      ]
     },
     "execution_count": 28,
     "metadata": {},
     "output_type": "execute_result"
    }
   ],
   "source": [
    "df"
   ]
  },
  {
   "cell_type": "code",
   "execution_count": 29,
   "metadata": {},
   "outputs": [],
   "source": [
    "df.drop(\"Place\",axis=1,inplace=True)"
   ]
  },
  {
   "cell_type": "markdown",
   "metadata": {},
   "source": [
    "# Cleaning the Test dataset"
   ]
  },
  {
   "cell_type": "code",
   "execution_count": 30,
   "metadata": {},
   "outputs": [],
   "source": [
    "#  Cleaning the Rating column \n",
    "Rating = list(df_test['Rating'])\n",
    "for i in range(len(Rating)):\n",
    "    Rating[i] = re.sub(r'%', '', str(Rating[i]))\n",
    "    \n",
    "df_test['Rating'] = Rating\n",
    "df_test['Rating'] = df_test['Rating'].astype(int)"
   ]
  },
  {
   "cell_type": "code",
   "execution_count": 31,
   "metadata": {},
   "outputs": [],
   "source": [
    "#  Splitting the Miscellaneous_Info column \n",
    "df_test['Feedback'] = df_test['Miscellaneous_Info'].apply(get_feedback)\n",
    "df_test['Feedback'] = df_test['Feedback'].str.replace(' Feedback','')\n",
    "df_test['Feedback'] = df_test['Feedback'].astype(int)\n",
    "\n",
    "df_test['Miscellaneous_Fees'] = df_test['Miscellaneous_Info'].apply(fee)\n",
    "df_test['Miscellaneous_Fees'] = df_test['Miscellaneous_Fees'].str.replace('₹','')\n",
    "df_test['Miscellaneous_Fees'].fillna(df_test['Miscellaneous_Fees'].mode()[0], inplace=True)\n",
    "df_test['Miscellaneous_Fees'] = df_test['Miscellaneous_Fees'].astype(int)\n",
    "\n",
    "df_test.drop(\"Miscellaneous_Info\",axis=1,inplace=True)"
   ]
  },
  {
   "cell_type": "code",
   "execution_count": 32,
   "metadata": {},
   "outputs": [],
   "source": [
    "#  Cleaning the Experience column \n",
    "df_test['Experience'] = df_test['Experience'].str.replace('years experience','').astype(int)"
   ]
  },
  {
   "cell_type": "code",
   "execution_count": 33,
   "metadata": {},
   "outputs": [],
   "source": [
    "#  Splitting the Place column \n",
    "df_test[\"Place\"].fillna(\"missing,missing\",inplace=True)\n",
    "df_test[\"Place\"] = df_test[\"Place\"].str.split(\",\")\n",
    "df_test[\"City\"] = df_test[\"Place\"].str[-1]\n",
    "df_test[\"Place\"] = df_test[\"Place\"].str[0]"
   ]
  },
  {
   "cell_type": "code",
   "execution_count": 34,
   "metadata": {},
   "outputs": [
    {
     "data": {
      "text/plain": [
       "Qualification         0\n",
       "Experience            0\n",
       "Rating                0\n",
       "Place                 0\n",
       "Profile               0\n",
       "Feedback              0\n",
       "Miscellaneous_Fees    0\n",
       "City                  0\n",
       "dtype: int64"
      ]
     },
     "execution_count": 34,
     "metadata": {},
     "output_type": "execute_result"
    }
   ],
   "source": [
    "df_test.isnull().sum()"
   ]
  },
  {
   "cell_type": "code",
   "execution_count": 35,
   "metadata": {},
   "outputs": [
    {
     "data": {
      "text/html": [
       "<div>\n",
       "<style scoped>\n",
       "    .dataframe tbody tr th:only-of-type {\n",
       "        vertical-align: middle;\n",
       "    }\n",
       "\n",
       "    .dataframe tbody tr th {\n",
       "        vertical-align: top;\n",
       "    }\n",
       "\n",
       "    .dataframe thead th {\n",
       "        text-align: right;\n",
       "    }\n",
       "</style>\n",
       "<table border=\"1\" class=\"dataframe\">\n",
       "  <thead>\n",
       "    <tr style=\"text-align: right;\">\n",
       "      <th></th>\n",
       "      <th>Qualification</th>\n",
       "      <th>Experience</th>\n",
       "      <th>Rating</th>\n",
       "      <th>Place</th>\n",
       "      <th>Profile</th>\n",
       "      <th>Feedback</th>\n",
       "      <th>Miscellaneous_Fees</th>\n",
       "      <th>City</th>\n",
       "    </tr>\n",
       "  </thead>\n",
       "  <tbody>\n",
       "    <tr>\n",
       "      <th>0</th>\n",
       "      <td>MBBS</td>\n",
       "      <td>35</td>\n",
       "      <td>0</td>\n",
       "      <td>Ghatkopar East</td>\n",
       "      <td>General Medicine</td>\n",
       "      <td>0</td>\n",
       "      <td>500</td>\n",
       "      <td>Mumbai</td>\n",
       "    </tr>\n",
       "    <tr>\n",
       "      <th>1</th>\n",
       "      <td>MBBS, Diploma in Otorhinolaryngology (DLO)</td>\n",
       "      <td>31</td>\n",
       "      <td>0</td>\n",
       "      <td>West Marredpally</td>\n",
       "      <td>ENT Specialist</td>\n",
       "      <td>0</td>\n",
       "      <td>500</td>\n",
       "      <td>Hyderabad</td>\n",
       "    </tr>\n",
       "    <tr>\n",
       "      <th>2</th>\n",
       "      <td>MBBS, DDVL</td>\n",
       "      <td>40</td>\n",
       "      <td>70</td>\n",
       "      <td>KK Nagar</td>\n",
       "      <td>Dermatologists</td>\n",
       "      <td>4</td>\n",
       "      <td>500</td>\n",
       "      <td>Chennai</td>\n",
       "    </tr>\n",
       "    <tr>\n",
       "      <th>3</th>\n",
       "      <td>BAMS</td>\n",
       "      <td>0</td>\n",
       "      <td>0</td>\n",
       "      <td>New Ashok Nagar</td>\n",
       "      <td>Ayurveda</td>\n",
       "      <td>0</td>\n",
       "      <td>500</td>\n",
       "      <td>Delhi</td>\n",
       "    </tr>\n",
       "    <tr>\n",
       "      <th>4</th>\n",
       "      <td>BDS, MDS - Conservative Dentistry &amp; Endodontics</td>\n",
       "      <td>16</td>\n",
       "      <td>100</td>\n",
       "      <td>Kanakpura Road</td>\n",
       "      <td>Dentist</td>\n",
       "      <td>0</td>\n",
       "      <td>500</td>\n",
       "      <td>Bangalore</td>\n",
       "    </tr>\n",
       "    <tr>\n",
       "      <th>...</th>\n",
       "      <td>...</td>\n",
       "      <td>...</td>\n",
       "      <td>...</td>\n",
       "      <td>...</td>\n",
       "      <td>...</td>\n",
       "      <td>...</td>\n",
       "      <td>...</td>\n",
       "      <td>...</td>\n",
       "    </tr>\n",
       "    <tr>\n",
       "      <th>1982</th>\n",
       "      <td>BAMS, Doctor of Medicine</td>\n",
       "      <td>10</td>\n",
       "      <td>0</td>\n",
       "      <td>Basavanagudi</td>\n",
       "      <td>Ayurveda</td>\n",
       "      <td>0</td>\n",
       "      <td>500</td>\n",
       "      <td>Bangalore</td>\n",
       "    </tr>\n",
       "    <tr>\n",
       "      <th>1983</th>\n",
       "      <td>MD - Dermatology , Venereology &amp; Leprosy, MBBS</td>\n",
       "      <td>4</td>\n",
       "      <td>0</td>\n",
       "      <td>Choolai</td>\n",
       "      <td>Dermatologists</td>\n",
       "      <td>0</td>\n",
       "      <td>500</td>\n",
       "      <td>Chennai</td>\n",
       "    </tr>\n",
       "    <tr>\n",
       "      <th>1984</th>\n",
       "      <td>MBBS, MD / MS - Obstetrics &amp; Gynaecology</td>\n",
       "      <td>9</td>\n",
       "      <td>0</td>\n",
       "      <td>Porur</td>\n",
       "      <td>General Medicine</td>\n",
       "      <td>0</td>\n",
       "      <td>500</td>\n",
       "      <td>Chennai</td>\n",
       "    </tr>\n",
       "    <tr>\n",
       "      <th>1985</th>\n",
       "      <td>BDS</td>\n",
       "      <td>12</td>\n",
       "      <td>98</td>\n",
       "      <td>Arekere</td>\n",
       "      <td>Dentist</td>\n",
       "      <td>0</td>\n",
       "      <td>500</td>\n",
       "      <td>Bangalore</td>\n",
       "    </tr>\n",
       "    <tr>\n",
       "      <th>1986</th>\n",
       "      <td>MBBS, MD - Dermatology , Venereology &amp; Leprosy</td>\n",
       "      <td>8</td>\n",
       "      <td>0</td>\n",
       "      <td>Pallikaranai</td>\n",
       "      <td>Dermatologists</td>\n",
       "      <td>1</td>\n",
       "      <td>500</td>\n",
       "      <td>Chennai</td>\n",
       "    </tr>\n",
       "  </tbody>\n",
       "</table>\n",
       "<p>1987 rows × 8 columns</p>\n",
       "</div>"
      ],
      "text/plain": [
       "                                        Qualification  Experience  Rating  \\\n",
       "0                                                MBBS          35       0   \n",
       "1          MBBS, Diploma in Otorhinolaryngology (DLO)          31       0   \n",
       "2                                          MBBS, DDVL          40      70   \n",
       "3                                                BAMS           0       0   \n",
       "4     BDS, MDS - Conservative Dentistry & Endodontics          16     100   \n",
       "...                                               ...         ...     ...   \n",
       "1982                         BAMS, Doctor of Medicine          10       0   \n",
       "1983   MD - Dermatology , Venereology & Leprosy, MBBS           4       0   \n",
       "1984         MBBS, MD / MS - Obstetrics & Gynaecology           9       0   \n",
       "1985                                              BDS          12      98   \n",
       "1986   MBBS, MD - Dermatology , Venereology & Leprosy           8       0   \n",
       "\n",
       "                 Place           Profile  Feedback  Miscellaneous_Fees  \\\n",
       "0       Ghatkopar East  General Medicine         0                 500   \n",
       "1     West Marredpally    ENT Specialist         0                 500   \n",
       "2             KK Nagar    Dermatologists         4                 500   \n",
       "3      New Ashok Nagar          Ayurveda         0                 500   \n",
       "4       Kanakpura Road           Dentist         0                 500   \n",
       "...                ...               ...       ...                 ...   \n",
       "1982      Basavanagudi          Ayurveda         0                 500   \n",
       "1983           Choolai    Dermatologists         0                 500   \n",
       "1984             Porur  General Medicine         0                 500   \n",
       "1985           Arekere           Dentist         0                 500   \n",
       "1986      Pallikaranai    Dermatologists         1                 500   \n",
       "\n",
       "            City  \n",
       "0         Mumbai  \n",
       "1      Hyderabad  \n",
       "2        Chennai  \n",
       "3          Delhi  \n",
       "4      Bangalore  \n",
       "...          ...  \n",
       "1982   Bangalore  \n",
       "1983     Chennai  \n",
       "1984     Chennai  \n",
       "1985   Bangalore  \n",
       "1986     Chennai  \n",
       "\n",
       "[1987 rows x 8 columns]"
      ]
     },
     "execution_count": 35,
     "metadata": {},
     "output_type": "execute_result"
    }
   ],
   "source": [
    "df_test"
   ]
  },
  {
   "cell_type": "code",
   "execution_count": 36,
   "metadata": {},
   "outputs": [],
   "source": [
    "df_test.drop(\"Place\",axis=1,inplace=True)"
   ]
  },
  {
   "cell_type": "markdown",
   "metadata": {},
   "source": [
    " Cleaning of the datasets is done"
   ]
  },
  {
   "cell_type": "markdown",
   "metadata": {},
   "source": [
    "# Summary Statistics"
   ]
  },
  {
   "cell_type": "code",
   "execution_count": 37,
   "metadata": {
    "scrolled": true
   },
   "outputs": [
    {
     "data": {
      "text/html": [
       "<div>\n",
       "<style scoped>\n",
       "    .dataframe tbody tr th:only-of-type {\n",
       "        vertical-align: middle;\n",
       "    }\n",
       "\n",
       "    .dataframe tbody tr th {\n",
       "        vertical-align: top;\n",
       "    }\n",
       "\n",
       "    .dataframe thead th {\n",
       "        text-align: right;\n",
       "    }\n",
       "</style>\n",
       "<table border=\"1\" class=\"dataframe\">\n",
       "  <thead>\n",
       "    <tr style=\"text-align: right;\">\n",
       "      <th></th>\n",
       "      <th>Experience</th>\n",
       "      <th>Rating</th>\n",
       "      <th>Fees</th>\n",
       "      <th>Feedback</th>\n",
       "      <th>Miscellaneous_Fees</th>\n",
       "    </tr>\n",
       "  </thead>\n",
       "  <tbody>\n",
       "    <tr>\n",
       "      <th>count</th>\n",
       "      <td>5961.000000</td>\n",
       "      <td>5961.000000</td>\n",
       "      <td>5961.000000</td>\n",
       "      <td>5961.000000</td>\n",
       "      <td>5961.000000</td>\n",
       "    </tr>\n",
       "    <tr>\n",
       "      <th>mean</th>\n",
       "      <td>17.303976</td>\n",
       "      <td>42.217245</td>\n",
       "      <td>307.944640</td>\n",
       "      <td>10.373427</td>\n",
       "      <td>209.457306</td>\n",
       "    </tr>\n",
       "    <tr>\n",
       "      <th>std</th>\n",
       "      <td>11.142798</td>\n",
       "      <td>47.340934</td>\n",
       "      <td>190.920373</td>\n",
       "      <td>49.603087</td>\n",
       "      <td>86.347850</td>\n",
       "    </tr>\n",
       "    <tr>\n",
       "      <th>min</th>\n",
       "      <td>0.000000</td>\n",
       "      <td>0.000000</td>\n",
       "      <td>5.000000</td>\n",
       "      <td>0.000000</td>\n",
       "      <td>100.000000</td>\n",
       "    </tr>\n",
       "    <tr>\n",
       "      <th>25%</th>\n",
       "      <td>9.000000</td>\n",
       "      <td>0.000000</td>\n",
       "      <td>150.000000</td>\n",
       "      <td>0.000000</td>\n",
       "      <td>200.000000</td>\n",
       "    </tr>\n",
       "    <tr>\n",
       "      <th>50%</th>\n",
       "      <td>14.000000</td>\n",
       "      <td>0.000000</td>\n",
       "      <td>300.000000</td>\n",
       "      <td>0.000000</td>\n",
       "      <td>200.000000</td>\n",
       "    </tr>\n",
       "    <tr>\n",
       "      <th>75%</th>\n",
       "      <td>23.000000</td>\n",
       "      <td>96.000000</td>\n",
       "      <td>500.000000</td>\n",
       "      <td>1.000000</td>\n",
       "      <td>200.000000</td>\n",
       "    </tr>\n",
       "    <tr>\n",
       "      <th>max</th>\n",
       "      <td>66.000000</td>\n",
       "      <td>100.000000</td>\n",
       "      <td>950.000000</td>\n",
       "      <td>1782.000000</td>\n",
       "      <td>2500.000000</td>\n",
       "    </tr>\n",
       "  </tbody>\n",
       "</table>\n",
       "</div>"
      ],
      "text/plain": [
       "        Experience       Rating         Fees     Feedback  Miscellaneous_Fees\n",
       "count  5961.000000  5961.000000  5961.000000  5961.000000         5961.000000\n",
       "mean     17.303976    42.217245   307.944640    10.373427          209.457306\n",
       "std      11.142798    47.340934   190.920373    49.603087           86.347850\n",
       "min       0.000000     0.000000     5.000000     0.000000          100.000000\n",
       "25%       9.000000     0.000000   150.000000     0.000000          200.000000\n",
       "50%      14.000000     0.000000   300.000000     0.000000          200.000000\n",
       "75%      23.000000    96.000000   500.000000     1.000000          200.000000\n",
       "max      66.000000   100.000000   950.000000  1782.000000         2500.000000"
      ]
     },
     "execution_count": 37,
     "metadata": {},
     "output_type": "execute_result"
    }
   ],
   "source": [
    "df.describe()"
   ]
  },
  {
   "cell_type": "markdown",
   "metadata": {},
   "source": [
    "Feedback, Miscellaneous_Fees and Fees column has hugh difference in their 75% and max values, hence outliers are present"
   ]
  },
  {
   "cell_type": "code",
   "execution_count": 38,
   "metadata": {},
   "outputs": [
    {
     "data": {
      "text/plain": [
       "9"
      ]
     },
     "execution_count": 38,
     "metadata": {},
     "output_type": "execute_result"
    }
   ],
   "source": [
    "df['City'].nunique()"
   ]
  },
  {
   "cell_type": "markdown",
   "metadata": {},
   "source": [
    "City column has 9 unique values"
   ]
  },
  {
   "cell_type": "code",
   "execution_count": 39,
   "metadata": {},
   "outputs": [
    {
     "data": {
      "text/plain": [
       " Bangalore             1258\n",
       " Mumbai                1219\n",
       " Delhi                 1185\n",
       " Hyderabad              951\n",
       " Chennai                855\n",
       " Coimbatore             228\n",
       " Ernakulam              153\n",
       " Thiruvananthapuram      86\n",
       "missing                  26\n",
       "Name: City, dtype: int64"
      ]
     },
     "execution_count": 39,
     "metadata": {},
     "output_type": "execute_result"
    }
   ],
   "source": [
    "df['City'].value_counts()"
   ]
  },
  {
   "cell_type": "markdown",
   "metadata": {},
   "source": [
    "Banglore has 1258 Doctors and Mumbai has 1219 Doctors"
   ]
  },
  {
   "cell_type": "code",
   "execution_count": 40,
   "metadata": {},
   "outputs": [
    {
     "data": {
      "text/plain": [
       "6"
      ]
     },
     "execution_count": 40,
     "metadata": {},
     "output_type": "execute_result"
    }
   ],
   "source": [
    "df['Profile'].nunique()"
   ]
  },
  {
   "cell_type": "markdown",
   "metadata": {},
   "source": [
    "The dataset has doctors with 6 different profiles"
   ]
  },
  {
   "cell_type": "code",
   "execution_count": 41,
   "metadata": {},
   "outputs": [
    {
     "data": {
      "text/plain": [
       "1420"
      ]
     },
     "execution_count": 41,
     "metadata": {},
     "output_type": "execute_result"
    }
   ],
   "source": [
    "df['Qualification'].nunique()"
   ]
  },
  {
   "cell_type": "markdown",
   "metadata": {},
   "source": [
    "Qualification has 1420 unique values"
   ]
  },
  {
   "cell_type": "code",
   "execution_count": 42,
   "metadata": {},
   "outputs": [
    {
     "data": {
      "image/png": "[encoded data removed]",
      "text/plain": [
       "<Figure size 432x288 with 1 Axes>"
      ]
     },
     "metadata": {
      "needs_background": "light"
     },
     "output_type": "display_data"
    }
   ],
   "source": [
    "# Correlation with target variable (i.e. Fees)\n",
    "df.drop('Fees',axis=1).corrwith(df['Fees']).plot(kind='bar',grid=True)\n",
    "plt.xticks(rotation=90)\n",
    "plt.title('Correlation with target variable')\n",
    "plt.show()"
   ]
  },
  {
   "cell_type": "markdown",
   "metadata": {},
   "source": [
    "Observations:\n",
    "    1. None of the columns have negative correlation with the target variable\n",
    "    2. Rating column has the highest correlation with the target variable"
   ]
  },
  {
   "cell_type": "markdown",
   "metadata": {},
   "source": [
    "# Data Visualization"
   ]
  },
  {
   "cell_type": "markdown",
   "metadata": {},
   "source": [
    "## Univariate Analysis"
   ]
  },
  {
   "cell_type": "code",
   "execution_count": 43,
   "metadata": {},
   "outputs": [
    {
     "data": {
      "image/png": "[encoded data removed]",
      "text/plain": [
       "<Figure size 1080x360 with 1 Axes>"
      ]
     },
     "metadata": {
      "needs_background": "light"
     },
     "output_type": "display_data"
    },
    {
     "name": "stdout",
     "output_type": "stream",
     "text": [
      " Bangalore             1258\n",
      " Mumbai                1219\n",
      " Delhi                 1185\n",
      " Hyderabad              951\n",
      " Chennai                855\n",
      " Coimbatore             228\n",
      " Ernakulam              153\n",
      " Thiruvananthapuram      86\n",
      "missing                  26\n",
      "Name: City, dtype: int64\n"
     ]
    }
   ],
   "source": [
    "# Checking for count of doctors according to City\n",
    "plt.subplots(figsize=(15,5))\n",
    "sns.countplot(x='City',data=df,palette='rainbow')\n",
    "plt.title('Doctors in each City',fontsize=30)\n",
    "plt.show()\n",
    "\n",
    "print(df.City.value_counts())"
   ]
  },
  {
   "cell_type": "markdown",
   "metadata": {},
   "source": [
    "Banglore has 1258 Doctors and Munbai has 1219 Doctors"
   ]
  },
  {
   "cell_type": "code",
   "execution_count": 44,
   "metadata": {},
   "outputs": [
    {
     "data": {
      "image/png": "[encoded data removed]",
      "text/plain": [
       "<Figure size 1080x360 with 1 Axes>"
      ]
     },
     "metadata": {
      "needs_background": "light"
     },
     "output_type": "display_data"
    },
    {
     "name": "stdout",
     "output_type": "stream",
     "text": [
      "Dentist             1397\n",
      "General Medicine    1173\n",
      "Dermatologists      1034\n",
      "Homeopath            843\n",
      "Ayurveda             786\n",
      "ENT Specialist       728\n",
      "Name: Profile, dtype: int64\n"
     ]
    }
   ],
   "source": [
    "# Checking for count of doctors according to Profile\n",
    "plt.subplots(figsize=(15,5))\n",
    "sns.countplot(x='Profile',data=df,palette='rainbow')\n",
    "plt.title('Profiles of doctors',fontsize=30)\n",
    "plt.show()\n",
    "\n",
    "print(df.Profile.value_counts())"
   ]
  },
  {
   "cell_type": "markdown",
   "metadata": {},
   "source": [
    "1397 of the Doctors are Dentists, and 728 Doctors are ENT Specialists"
   ]
  },
  {
   "cell_type": "code",
   "execution_count": 45,
   "metadata": {},
   "outputs": [
    {
     "data": {
      "image/png": "[encoded data removed]",
      "text/plain": [
       "<Figure size 432x288 with 1 Axes>"
      ]
     },
     "metadata": {
      "needs_background": "light"
     },
     "output_type": "display_data"
    },
    {
     "name": "stdout",
     "output_type": "stream",
     "text": [
      "Mean of Fees :  307.9446401610468\n"
     ]
    }
   ],
   "source": [
    "# Mean of Fees\n",
    "Fees = df['Fees'].hist()\n",
    "mean_val=np.mean(df['Fees'])\n",
    "plt.axvline(mean_val,linewidth=4,color='red',label='Mean Fees')\n",
    "plt.xlabel('Fees')\n",
    "plt.ylabel('count')\n",
    "plt.legend()\n",
    "plt.show()\n",
    "\n",
    "print('Mean of Fees : ',mean_val)"
   ]
  },
  {
   "cell_type": "markdown",
   "metadata": {},
   "source": [
    "Mean of the Fees column is 307 and the plot is slightly right skewed"
   ]
  },
  {
   "cell_type": "code",
   "execution_count": 46,
   "metadata": {},
   "outputs": [
    {
     "data": {
      "image/png": "[encoded data removed]",
      "text/plain": [
       "<Figure size 432x288 with 1 Axes>"
      ]
     },
     "metadata": {
      "needs_background": "light"
     },
     "output_type": "display_data"
    },
    {
     "name": "stdout",
     "output_type": "stream",
     "text": [
      "Mean of Ratings :  42.21724542861936\n"
     ]
    }
   ],
   "source": [
    "# Mean of Rating\n",
    "Ratings = df['Rating'].hist()\n",
    "mean_val=np.mean(df['Rating'])\n",
    "plt.axvline(mean_val,linewidth=4,color='red',label='Mean Rating')\n",
    "plt.xlabel('Rating')\n",
    "plt.ylabel('count')\n",
    "plt.legend()\n",
    "plt.show()\n",
    "\n",
    "print('Mean of Ratings : ',mean_val)"
   ]
  },
  {
   "cell_type": "markdown",
   "metadata": {},
   "source": [
    "The mean of the rating column is 42"
   ]
  },
  {
   "cell_type": "code",
   "execution_count": 47,
   "metadata": {},
   "outputs": [
    {
     "data": {
      "image/png": "[encoded data removed]",
      "text/plain": [
       "<Figure size 432x288 with 1 Axes>"
      ]
     },
     "metadata": {
      "needs_background": "light"
     },
     "output_type": "display_data"
    },
    {
     "name": "stdout",
     "output_type": "stream",
     "text": [
      "Mean of Feedback :  10.373427277302467\n"
     ]
    }
   ],
   "source": [
    "# Mean of Feedback\n",
    "Feedbacks = df['Feedback'].hist()\n",
    "mean_val=np.mean(df['Feedback'])\n",
    "plt.axvline(mean_val,linewidth=4,color='red',label='Mean Feedback')\n",
    "plt.xlabel('Feedback')\n",
    "plt.ylabel('count')\n",
    "plt.legend()\n",
    "plt.show()\n",
    "\n",
    "print('Mean of Feedback : ',mean_val)"
   ]
  },
  {
   "cell_type": "markdown",
   "metadata": {},
   "source": [
    "The Feedback column is right skewed and its mean is 10"
   ]
  },
  {
   "cell_type": "code",
   "execution_count": 48,
   "metadata": {},
   "outputs": [
    {
     "data": {
      "image/png": "[encoded data removed]",
      "text/plain": [
       "<Figure size 432x288 with 1 Axes>"
      ]
     },
     "metadata": {
      "needs_background": "light"
     },
     "output_type": "display_data"
    },
    {
     "name": "stdout",
     "output_type": "stream",
     "text": [
      "Mean of Miscellaneous_Fees :  209.45730582117093\n"
     ]
    }
   ],
   "source": [
    "# Mean of Miscellaneous_Fees\n",
    "Miscellaneous_Fees = df['Miscellaneous_Fees'].hist()\n",
    "mean_val=np.mean(df['Miscellaneous_Fees'])\n",
    "plt.axvline(mean_val,linewidth=4,color='red',label='Mean Miscellaneous_Fees')\n",
    "plt.xlabel('Miscellaneous_Fees')\n",
    "plt.ylabel('count')\n",
    "plt.legend()\n",
    "plt.show()\n",
    "\n",
    "print('Mean of Miscellaneous_Fees : ',mean_val)"
   ]
  },
  {
   "cell_type": "markdown",
   "metadata": {},
   "source": [
    "The mean of Miscellaneous_Fees is 209, and the column is highly right skewed"
   ]
  },
  {
   "cell_type": "code",
   "execution_count": 49,
   "metadata": {},
   "outputs": [
    {
     "data": {
      "image/png": "[encoded data removed]",
      "text/plain": [
       "<Figure size 432x288 with 1 Axes>"
      ]
     },
     "metadata": {
      "needs_background": "light"
     },
     "output_type": "display_data"
    },
    {
     "name": "stdout",
     "output_type": "stream",
     "text": [
      "Mean of Experience :  17.303975842979366\n"
     ]
    }
   ],
   "source": [
    "# Mean of Experience\n",
    "Experience = df['Experience'].hist()\n",
    "mean_val=np.mean(df['Experience'])\n",
    "plt.axvline(mean_val,linewidth=4,color='red',label='Mean Experience')\n",
    "plt.xlabel('Experience')\n",
    "plt.ylabel('count')\n",
    "plt.legend()\n",
    "plt.show()\n",
    "\n",
    "print('Mean of Experience : ',mean_val)"
   ]
  },
  {
   "cell_type": "markdown",
   "metadata": {},
   "source": [
    "The values in the Experience column are right skewed, and the mean is 17"
   ]
  },
  {
   "cell_type": "markdown",
   "metadata": {},
   "source": [
    "## Bivariate Analysis"
   ]
  },
  {
   "cell_type": "code",
   "execution_count": 50,
   "metadata": {},
   "outputs": [
    {
     "data": {
      "image/png": "[encoded data removed]",
      "text/plain": [
       "<Figure size 720x432 with 1 Axes>"
      ]
     },
     "metadata": {
      "needs_background": "light"
     },
     "output_type": "display_data"
    }
   ],
   "source": [
    "# Checking for Fees according to Profile\n",
    "plt.figure(figsize=(10,6))\n",
    "mean_price = np.mean(df['Fees'])\n",
    "sns.boxplot(y='Fees',x='Profile',data=df,palette='rainbow')\n",
    "plt.axhline(mean_price,color='r',linestyle='dashed',linewidth=2)\n",
    "plt.title('Fees according to profiles of doctors',fontsize=30)\n",
    "plt.show()"
   ]
  },
  {
   "cell_type": "markdown",
   "metadata": {},
   "source": [
    "Observations:\n",
    "    1. Doctors who practice Ayurveda and Dentists charge lower than average fees\n",
    "    2. Doctors who practice Homeopathy and General Medicine charge average fees\n",
    "    3. Ent Specialists and Dermatologists charge higher than average fees"
   ]
  },
  {
   "cell_type": "code",
   "execution_count": 51,
   "metadata": {},
   "outputs": [
    {
     "data": {
      "image/png": "[encoded data removed]",
      "text/plain": [
       "<Figure size 1080x576 with 1 Axes>"
      ]
     },
     "metadata": {
      "needs_background": "light"
     },
     "output_type": "display_data"
    }
   ],
   "source": [
    "# Checking for Fees according to City\n",
    "plt.figure(figsize=(15,8))\n",
    "mean_price = np.mean(df['Fees'])\n",
    "sns.boxplot(y='Fees',x='City',data=df,palette='rainbow')\n",
    "plt.axhline(mean_price,color='r',linestyle='dashed',linewidth=2)\n",
    "plt.title('Fees according to Citys',fontsize=30)\n",
    "plt.show()"
   ]
  },
  {
   "cell_type": "markdown",
   "metadata": {},
   "source": [
    "Observations:\n",
    "    1. Doctors in Ernakulam, Coimbatore and Thiruvananthapuram charge less than average fees\n",
    "    2. Most of the doctors in Mumbai and Chennai charge less than average fess\n",
    "    3. Doctors in Banglore, Delhi and Hydrebad charge average fees"
   ]
  },
  {
   "cell_type": "code",
   "execution_count": 52,
   "metadata": {},
   "outputs": [
    {
     "data": {
      "image/png": "[encoded data removed]",
      "text/plain": [
       "<Figure size 432x288 with 1 Axes>"
      ]
     },
     "metadata": {},
     "output_type": "display_data"
    }
   ],
   "source": [
    "# Fees vs Miscellaneous_Fees\n",
    "sns.set(style='white')\n",
    "plt.scatter(df['Miscellaneous_Fees'],df['Fees'])\n",
    "plt.xlabel('Miscellaneous Fees')\n",
    "plt.ylabel('Fees')\n",
    "plt.title('Scatter ploy of Fees vs Miscellaneous_Fees',fontsize=20)\n",
    "plt.show()"
   ]
  },
  {
   "cell_type": "markdown",
   "metadata": {},
   "source": [
    "We can see than fess is not proportional to Miscellaneous fees"
   ]
  },
  {
   "cell_type": "code",
   "execution_count": 53,
   "metadata": {},
   "outputs": [
    {
     "data": {
      "image/png": "[encoded data removed]",
      "text/plain": [
       "<Figure size 432x288 with 1 Axes>"
      ]
     },
     "metadata": {},
     "output_type": "display_data"
    }
   ],
   "source": [
    "# Fees vs Rating\n",
    "plt.scatter(df['Rating'],df['Fees'])\n",
    "plt.xlabel('Rating')\n",
    "plt.ylabel('Fees')\n",
    "plt.title('Scatter ploy of Fees vs Rating',fontsize=20)\n",
    "plt.show()"
   ]
  },
  {
   "cell_type": "markdown",
   "metadata": {},
   "source": [
    "From this plot we can see than Fees is not proportionl to Rating"
   ]
  },
  {
   "cell_type": "code",
   "execution_count": 54,
   "metadata": {},
   "outputs": [
    {
     "data": {
      "image/png": "[encoded data removed]",
      "text/plain": [
       "<Figure size 432x288 with 1 Axes>"
      ]
     },
     "metadata": {},
     "output_type": "display_data"
    }
   ],
   "source": [
    "# Fees vs Experience\n",
    "plt.scatter(df['Experience'],df['Fees'])\n",
    "plt.xlabel('Experience')\n",
    "plt.ylabel('Fees')\n",
    "plt.title('Scatter ploy of Fees vs Experience',fontsize=20)\n",
    "plt.show()"
   ]
  },
  {
   "cell_type": "code",
   "execution_count": 55,
   "metadata": {},
   "outputs": [
    {
     "data": {
      "image/png": "[encoded data removed]",
      "text/plain": [
       "<Figure size 432x288 with 1 Axes>"
      ]
     },
     "metadata": {},
     "output_type": "display_data"
    }
   ],
   "source": [
    "# Fees vs Feedback\n",
    "plt.scatter(df['Feedback'],df['Fees'])\n",
    "plt.xlabel('Feedback')\n",
    "plt.ylabel('Fees')\n",
    "plt.title('Scatter ploy of Fees vs Feedback',fontsize=20)\n",
    "plt.show()"
   ]
  },
  {
   "cell_type": "markdown",
   "metadata": {},
   "source": [
    "From the above 2 plots we can see that Fees is neither proportional to Experience, nor to Feedback"
   ]
  },
  {
   "cell_type": "markdown",
   "metadata": {},
   "source": [
    "## Checking Skewness"
   ]
  },
  {
   "cell_type": "code",
   "execution_count": 56,
   "metadata": {},
   "outputs": [
    {
     "data": {
      "text/plain": [
       "Experience             0.991089\n",
       "Rating                 0.247186\n",
       "Fees                   0.751870\n",
       "Feedback              15.552419\n",
       "Miscellaneous_Fees    12.958724\n",
       "dtype: float64"
      ]
     },
     "execution_count": 56,
     "metadata": {},
     "output_type": "execute_result"
    }
   ],
   "source": [
    "df.skew()"
   ]
  },
  {
   "cell_type": "code",
   "execution_count": 57,
   "metadata": {},
   "outputs": [],
   "source": [
    "# Treating Skewness in Feedback and Miscellaneous_Fees columns using log+1 method\n",
    "columns = ['Feedback','Miscellaneous_Fees']\n",
    "for col in columns:\n",
    "    if df[col].skew()>0.55:\n",
    "        df[col]=np.log(df[col]+1)"
   ]
  },
  {
   "cell_type": "code",
   "execution_count": 58,
   "metadata": {},
   "outputs": [
    {
     "data": {
      "text/plain": [
       "Experience            0.991089\n",
       "Rating                0.247186\n",
       "Fees                  0.751870\n",
       "Feedback              1.777534\n",
       "Miscellaneous_Fees    7.998343\n",
       "dtype: float64"
      ]
     },
     "execution_count": 58,
     "metadata": {},
     "output_type": "execute_result"
    }
   ],
   "source": [
    "df.skew()"
   ]
  },
  {
   "cell_type": "markdown",
   "metadata": {},
   "source": [
    "## Encoding Categorical data"
   ]
  },
  {
   "cell_type": "code",
   "execution_count": 59,
   "metadata": {},
   "outputs": [],
   "source": [
    "# Dividing the datasets into categorical and numerical data\n",
    "column_num = df.select_dtypes(exclude = [\"object\"]).columns\n",
    "column_cat = df.select_dtypes(include = [\"object\"]).columns\n",
    "\n",
    "test_column_num = df_test.select_dtypes(exclude = [\"object\"]).columns\n",
    "test_column_cat = df_test.select_dtypes(include = [\"object\"]).columns"
   ]
  },
  {
   "cell_type": "code",
   "execution_count": 60,
   "metadata": {},
   "outputs": [],
   "source": [
    "df_num = df[column_num]\n",
    "df_cat = df[column_cat]\n",
    "\n",
    "df_test_num = df_test[test_column_num]\n",
    "df_test_cat = df_test[test_column_cat]"
   ]
  },
  {
   "cell_type": "code",
   "execution_count": 61,
   "metadata": {},
   "outputs": [
    {
     "data": {
      "text/html": [
       "<div>\n",
       "<style scoped>\n",
       "    .dataframe tbody tr th:only-of-type {\n",
       "        vertical-align: middle;\n",
       "    }\n",
       "\n",
       "    .dataframe tbody tr th {\n",
       "        vertical-align: top;\n",
       "    }\n",
       "\n",
       "    .dataframe thead th {\n",
       "        text-align: right;\n",
       "    }\n",
       "</style>\n",
       "<table border=\"1\" class=\"dataframe\">\n",
       "  <thead>\n",
       "    <tr style=\"text-align: right;\">\n",
       "      <th></th>\n",
       "      <th>Experience</th>\n",
       "      <th>Rating</th>\n",
       "      <th>Fees</th>\n",
       "      <th>Feedback</th>\n",
       "      <th>Miscellaneous_Fees</th>\n",
       "    </tr>\n",
       "  </thead>\n",
       "  <tbody>\n",
       "    <tr>\n",
       "      <th>0</th>\n",
       "      <td>24</td>\n",
       "      <td>100</td>\n",
       "      <td>100</td>\n",
       "      <td>2.833213</td>\n",
       "      <td>5.303305</td>\n",
       "    </tr>\n",
       "    <tr>\n",
       "      <th>1</th>\n",
       "      <td>12</td>\n",
       "      <td>98</td>\n",
       "      <td>350</td>\n",
       "      <td>4.343805</td>\n",
       "      <td>5.303305</td>\n",
       "    </tr>\n",
       "    <tr>\n",
       "      <th>2</th>\n",
       "      <td>9</td>\n",
       "      <td>0</td>\n",
       "      <td>300</td>\n",
       "      <td>0.000000</td>\n",
       "      <td>5.303305</td>\n",
       "    </tr>\n",
       "    <tr>\n",
       "      <th>3</th>\n",
       "      <td>12</td>\n",
       "      <td>0</td>\n",
       "      <td>250</td>\n",
       "      <td>0.000000</td>\n",
       "      <td>5.525453</td>\n",
       "    </tr>\n",
       "    <tr>\n",
       "      <th>4</th>\n",
       "      <td>20</td>\n",
       "      <td>100</td>\n",
       "      <td>250</td>\n",
       "      <td>1.609438</td>\n",
       "      <td>5.303305</td>\n",
       "    </tr>\n",
       "    <tr>\n",
       "      <th>...</th>\n",
       "      <td>...</td>\n",
       "      <td>...</td>\n",
       "      <td>...</td>\n",
       "      <td>...</td>\n",
       "      <td>...</td>\n",
       "    </tr>\n",
       "    <tr>\n",
       "      <th>5956</th>\n",
       "      <td>19</td>\n",
       "      <td>98</td>\n",
       "      <td>300</td>\n",
       "      <td>3.828641</td>\n",
       "      <td>5.303305</td>\n",
       "    </tr>\n",
       "    <tr>\n",
       "      <th>5957</th>\n",
       "      <td>33</td>\n",
       "      <td>0</td>\n",
       "      <td>100</td>\n",
       "      <td>0.000000</td>\n",
       "      <td>5.303305</td>\n",
       "    </tr>\n",
       "    <tr>\n",
       "      <th>5958</th>\n",
       "      <td>41</td>\n",
       "      <td>97</td>\n",
       "      <td>600</td>\n",
       "      <td>2.484907</td>\n",
       "      <td>5.303305</td>\n",
       "    </tr>\n",
       "    <tr>\n",
       "      <th>5959</th>\n",
       "      <td>15</td>\n",
       "      <td>90</td>\n",
       "      <td>100</td>\n",
       "      <td>0.000000</td>\n",
       "      <td>5.303305</td>\n",
       "    </tr>\n",
       "    <tr>\n",
       "      <th>5960</th>\n",
       "      <td>17</td>\n",
       "      <td>100</td>\n",
       "      <td>200</td>\n",
       "      <td>0.000000</td>\n",
       "      <td>5.303305</td>\n",
       "    </tr>\n",
       "  </tbody>\n",
       "</table>\n",
       "<p>5961 rows × 5 columns</p>\n",
       "</div>"
      ],
      "text/plain": [
       "      Experience  Rating  Fees  Feedback  Miscellaneous_Fees\n",
       "0             24     100   100  2.833213            5.303305\n",
       "1             12      98   350  4.343805            5.303305\n",
       "2              9       0   300  0.000000            5.303305\n",
       "3             12       0   250  0.000000            5.525453\n",
       "4             20     100   250  1.609438            5.303305\n",
       "...          ...     ...   ...       ...                 ...\n",
       "5956          19      98   300  3.828641            5.303305\n",
       "5957          33       0   100  0.000000            5.303305\n",
       "5958          41      97   600  2.484907            5.303305\n",
       "5959          15      90   100  0.000000            5.303305\n",
       "5960          17     100   200  0.000000            5.303305\n",
       "\n",
       "[5961 rows x 5 columns]"
      ]
     },
     "execution_count": 61,
     "metadata": {},
     "output_type": "execute_result"
    }
   ],
   "source": [
    "df_num"
   ]
  },
  {
   "cell_type": "code",
   "execution_count": 62,
   "metadata": {},
   "outputs": [
    {
     "data": {
      "text/html": [
       "<div>\n",
       "<style scoped>\n",
       "    .dataframe tbody tr th:only-of-type {\n",
       "        vertical-align: middle;\n",
       "    }\n",
       "\n",
       "    .dataframe tbody tr th {\n",
       "        vertical-align: top;\n",
       "    }\n",
       "\n",
       "    .dataframe thead th {\n",
       "        text-align: right;\n",
       "    }\n",
       "</style>\n",
       "<table border=\"1\" class=\"dataframe\">\n",
       "  <thead>\n",
       "    <tr style=\"text-align: right;\">\n",
       "      <th></th>\n",
       "      <th>Qualification</th>\n",
       "      <th>Profile</th>\n",
       "      <th>City</th>\n",
       "    </tr>\n",
       "  </thead>\n",
       "  <tbody>\n",
       "    <tr>\n",
       "      <th>0</th>\n",
       "      <td>BHMS, MD - Homeopathy</td>\n",
       "      <td>Homeopath</td>\n",
       "      <td>Ernakulam</td>\n",
       "    </tr>\n",
       "    <tr>\n",
       "      <th>1</th>\n",
       "      <td>BAMS, MD - Ayurveda Medicine</td>\n",
       "      <td>Ayurveda</td>\n",
       "      <td>Bangalore</td>\n",
       "    </tr>\n",
       "    <tr>\n",
       "      <th>2</th>\n",
       "      <td>MBBS, MS - Otorhinolaryngology</td>\n",
       "      <td>ENT Specialist</td>\n",
       "      <td>Bangalore</td>\n",
       "    </tr>\n",
       "    <tr>\n",
       "      <th>3</th>\n",
       "      <td>BSc - Zoology, BAMS</td>\n",
       "      <td>Ayurveda</td>\n",
       "      <td>Bangalore</td>\n",
       "    </tr>\n",
       "    <tr>\n",
       "      <th>4</th>\n",
       "      <td>BAMS</td>\n",
       "      <td>Ayurveda</td>\n",
       "      <td>Chennai</td>\n",
       "    </tr>\n",
       "    <tr>\n",
       "      <th>...</th>\n",
       "      <td>...</td>\n",
       "      <td>...</td>\n",
       "      <td>...</td>\n",
       "    </tr>\n",
       "    <tr>\n",
       "      <th>5956</th>\n",
       "      <td>MBBS, MS - ENT</td>\n",
       "      <td>ENT Specialist</td>\n",
       "      <td>Bangalore</td>\n",
       "    </tr>\n",
       "    <tr>\n",
       "      <th>5957</th>\n",
       "      <td>MBBS</td>\n",
       "      <td>General Medicine</td>\n",
       "      <td>Chennai</td>\n",
       "    </tr>\n",
       "    <tr>\n",
       "      <th>5958</th>\n",
       "      <td>MBBS</td>\n",
       "      <td>General Medicine</td>\n",
       "      <td>Delhi</td>\n",
       "    </tr>\n",
       "    <tr>\n",
       "      <th>5959</th>\n",
       "      <td>MBBS, MD - General Medicine</td>\n",
       "      <td>General Medicine</td>\n",
       "      <td>Mumbai</td>\n",
       "    </tr>\n",
       "    <tr>\n",
       "      <th>5960</th>\n",
       "      <td>BDS, MDS - Orthodontics</td>\n",
       "      <td>Dentist</td>\n",
       "      <td>Delhi</td>\n",
       "    </tr>\n",
       "  </tbody>\n",
       "</table>\n",
       "<p>5961 rows × 3 columns</p>\n",
       "</div>"
      ],
      "text/plain": [
       "                       Qualification           Profile        City\n",
       "0              BHMS, MD - Homeopathy         Homeopath   Ernakulam\n",
       "1       BAMS, MD - Ayurveda Medicine          Ayurveda   Bangalore\n",
       "2     MBBS, MS - Otorhinolaryngology    ENT Specialist   Bangalore\n",
       "3                BSc - Zoology, BAMS          Ayurveda   Bangalore\n",
       "4                               BAMS          Ayurveda     Chennai\n",
       "...                              ...               ...         ...\n",
       "5956                  MBBS, MS - ENT    ENT Specialist   Bangalore\n",
       "5957                            MBBS  General Medicine     Chennai\n",
       "5958                            MBBS  General Medicine       Delhi\n",
       "5959     MBBS, MD - General Medicine  General Medicine      Mumbai\n",
       "5960         BDS, MDS - Orthodontics           Dentist       Delhi\n",
       "\n",
       "[5961 rows x 3 columns]"
      ]
     },
     "execution_count": 62,
     "metadata": {},
     "output_type": "execute_result"
    }
   ],
   "source": [
    "df_cat"
   ]
  },
  {
   "cell_type": "code",
   "execution_count": 63,
   "metadata": {},
   "outputs": [
    {
     "data": {
      "text/html": [
       "<div>\n",
       "<style scoped>\n",
       "    .dataframe tbody tr th:only-of-type {\n",
       "        vertical-align: middle;\n",
       "    }\n",
       "\n",
       "    .dataframe tbody tr th {\n",
       "        vertical-align: top;\n",
       "    }\n",
       "\n",
       "    .dataframe thead th {\n",
       "        text-align: right;\n",
       "    }\n",
       "</style>\n",
       "<table border=\"1\" class=\"dataframe\">\n",
       "  <thead>\n",
       "    <tr style=\"text-align: right;\">\n",
       "      <th></th>\n",
       "      <th>Qualification</th>\n",
       "      <th>Profile</th>\n",
       "      <th>City</th>\n",
       "    </tr>\n",
       "  </thead>\n",
       "  <tbody>\n",
       "    <tr>\n",
       "      <th>0</th>\n",
       "      <td>MBBS</td>\n",
       "      <td>General Medicine</td>\n",
       "      <td>Mumbai</td>\n",
       "    </tr>\n",
       "    <tr>\n",
       "      <th>1</th>\n",
       "      <td>MBBS, Diploma in Otorhinolaryngology (DLO)</td>\n",
       "      <td>ENT Specialist</td>\n",
       "      <td>Hyderabad</td>\n",
       "    </tr>\n",
       "    <tr>\n",
       "      <th>2</th>\n",
       "      <td>MBBS, DDVL</td>\n",
       "      <td>Dermatologists</td>\n",
       "      <td>Chennai</td>\n",
       "    </tr>\n",
       "    <tr>\n",
       "      <th>3</th>\n",
       "      <td>BAMS</td>\n",
       "      <td>Ayurveda</td>\n",
       "      <td>Delhi</td>\n",
       "    </tr>\n",
       "    <tr>\n",
       "      <th>4</th>\n",
       "      <td>BDS, MDS - Conservative Dentistry &amp; Endodontics</td>\n",
       "      <td>Dentist</td>\n",
       "      <td>Bangalore</td>\n",
       "    </tr>\n",
       "    <tr>\n",
       "      <th>...</th>\n",
       "      <td>...</td>\n",
       "      <td>...</td>\n",
       "      <td>...</td>\n",
       "    </tr>\n",
       "    <tr>\n",
       "      <th>1982</th>\n",
       "      <td>BAMS, Doctor of Medicine</td>\n",
       "      <td>Ayurveda</td>\n",
       "      <td>Bangalore</td>\n",
       "    </tr>\n",
       "    <tr>\n",
       "      <th>1983</th>\n",
       "      <td>MD - Dermatology , Venereology &amp; Leprosy, MBBS</td>\n",
       "      <td>Dermatologists</td>\n",
       "      <td>Chennai</td>\n",
       "    </tr>\n",
       "    <tr>\n",
       "      <th>1984</th>\n",
       "      <td>MBBS, MD / MS - Obstetrics &amp; Gynaecology</td>\n",
       "      <td>General Medicine</td>\n",
       "      <td>Chennai</td>\n",
       "    </tr>\n",
       "    <tr>\n",
       "      <th>1985</th>\n",
       "      <td>BDS</td>\n",
       "      <td>Dentist</td>\n",
       "      <td>Bangalore</td>\n",
       "    </tr>\n",
       "    <tr>\n",
       "      <th>1986</th>\n",
       "      <td>MBBS, MD - Dermatology , Venereology &amp; Leprosy</td>\n",
       "      <td>Dermatologists</td>\n",
       "      <td>Chennai</td>\n",
       "    </tr>\n",
       "  </tbody>\n",
       "</table>\n",
       "<p>1987 rows × 3 columns</p>\n",
       "</div>"
      ],
      "text/plain": [
       "                                        Qualification           Profile  \\\n",
       "0                                                MBBS  General Medicine   \n",
       "1          MBBS, Diploma in Otorhinolaryngology (DLO)    ENT Specialist   \n",
       "2                                          MBBS, DDVL    Dermatologists   \n",
       "3                                                BAMS          Ayurveda   \n",
       "4     BDS, MDS - Conservative Dentistry & Endodontics           Dentist   \n",
       "...                                               ...               ...   \n",
       "1982                         BAMS, Doctor of Medicine          Ayurveda   \n",
       "1983   MD - Dermatology , Venereology & Leprosy, MBBS    Dermatologists   \n",
       "1984         MBBS, MD / MS - Obstetrics & Gynaecology  General Medicine   \n",
       "1985                                              BDS           Dentist   \n",
       "1986   MBBS, MD - Dermatology , Venereology & Leprosy    Dermatologists   \n",
       "\n",
       "            City  \n",
       "0         Mumbai  \n",
       "1      Hyderabad  \n",
       "2        Chennai  \n",
       "3          Delhi  \n",
       "4      Bangalore  \n",
       "...          ...  \n",
       "1982   Bangalore  \n",
       "1983     Chennai  \n",
       "1984     Chennai  \n",
       "1985   Bangalore  \n",
       "1986     Chennai  \n",
       "\n",
       "[1987 rows x 3 columns]"
      ]
     },
     "execution_count": 63,
     "metadata": {},
     "output_type": "execute_result"
    }
   ],
   "source": [
    "df_test_cat"
   ]
  },
  {
   "cell_type": "code",
   "execution_count": 64,
   "metadata": {},
   "outputs": [
    {
     "data": {
      "text/html": [
       "<div>\n",
       "<style scoped>\n",
       "    .dataframe tbody tr th:only-of-type {\n",
       "        vertical-align: middle;\n",
       "    }\n",
       "\n",
       "    .dataframe tbody tr th {\n",
       "        vertical-align: top;\n",
       "    }\n",
       "\n",
       "    .dataframe thead th {\n",
       "        text-align: right;\n",
       "    }\n",
       "</style>\n",
       "<table border=\"1\" class=\"dataframe\">\n",
       "  <thead>\n",
       "    <tr style=\"text-align: right;\">\n",
       "      <th></th>\n",
       "      <th>Experience</th>\n",
       "      <th>Rating</th>\n",
       "      <th>Feedback</th>\n",
       "      <th>Miscellaneous_Fees</th>\n",
       "    </tr>\n",
       "  </thead>\n",
       "  <tbody>\n",
       "    <tr>\n",
       "      <th>0</th>\n",
       "      <td>35</td>\n",
       "      <td>0</td>\n",
       "      <td>0</td>\n",
       "      <td>500</td>\n",
       "    </tr>\n",
       "    <tr>\n",
       "      <th>1</th>\n",
       "      <td>31</td>\n",
       "      <td>0</td>\n",
       "      <td>0</td>\n",
       "      <td>500</td>\n",
       "    </tr>\n",
       "    <tr>\n",
       "      <th>2</th>\n",
       "      <td>40</td>\n",
       "      <td>70</td>\n",
       "      <td>4</td>\n",
       "      <td>500</td>\n",
       "    </tr>\n",
       "    <tr>\n",
       "      <th>3</th>\n",
       "      <td>0</td>\n",
       "      <td>0</td>\n",
       "      <td>0</td>\n",
       "      <td>500</td>\n",
       "    </tr>\n",
       "    <tr>\n",
       "      <th>4</th>\n",
       "      <td>16</td>\n",
       "      <td>100</td>\n",
       "      <td>0</td>\n",
       "      <td>500</td>\n",
       "    </tr>\n",
       "    <tr>\n",
       "      <th>...</th>\n",
       "      <td>...</td>\n",
       "      <td>...</td>\n",
       "      <td>...</td>\n",
       "      <td>...</td>\n",
       "    </tr>\n",
       "    <tr>\n",
       "      <th>1982</th>\n",
       "      <td>10</td>\n",
       "      <td>0</td>\n",
       "      <td>0</td>\n",
       "      <td>500</td>\n",
       "    </tr>\n",
       "    <tr>\n",
       "      <th>1983</th>\n",
       "      <td>4</td>\n",
       "      <td>0</td>\n",
       "      <td>0</td>\n",
       "      <td>500</td>\n",
       "    </tr>\n",
       "    <tr>\n",
       "      <th>1984</th>\n",
       "      <td>9</td>\n",
       "      <td>0</td>\n",
       "      <td>0</td>\n",
       "      <td>500</td>\n",
       "    </tr>\n",
       "    <tr>\n",
       "      <th>1985</th>\n",
       "      <td>12</td>\n",
       "      <td>98</td>\n",
       "      <td>0</td>\n",
       "      <td>500</td>\n",
       "    </tr>\n",
       "    <tr>\n",
       "      <th>1986</th>\n",
       "      <td>8</td>\n",
       "      <td>0</td>\n",
       "      <td>1</td>\n",
       "      <td>500</td>\n",
       "    </tr>\n",
       "  </tbody>\n",
       "</table>\n",
       "<p>1987 rows × 4 columns</p>\n",
       "</div>"
      ],
      "text/plain": [
       "      Experience  Rating  Feedback  Miscellaneous_Fees\n",
       "0             35       0         0                 500\n",
       "1             31       0         0                 500\n",
       "2             40      70         4                 500\n",
       "3              0       0         0                 500\n",
       "4             16     100         0                 500\n",
       "...          ...     ...       ...                 ...\n",
       "1982          10       0         0                 500\n",
       "1983           4       0         0                 500\n",
       "1984           9       0         0                 500\n",
       "1985          12      98         0                 500\n",
       "1986           8       0         1                 500\n",
       "\n",
       "[1987 rows x 4 columns]"
      ]
     },
     "execution_count": 64,
     "metadata": {},
     "output_type": "execute_result"
    }
   ],
   "source": [
    "df_test_num"
   ]
  },
  {
   "cell_type": "code",
   "execution_count": 65,
   "metadata": {},
   "outputs": [],
   "source": [
    "# Converting categorical data to numerical data\n",
    "total_cat = df_cat.append(df_test_cat)\n",
    "train_cat_len = len(df_cat)\n",
    "total_cat_num = pd.get_dummies(total_cat,drop_first=True)\n",
    "df_cat = total_cat_num[:train_cat_len]\n",
    "df_test_cat = total_cat_num[train_cat_len:]"
   ]
  },
  {
   "cell_type": "code",
   "execution_count": 66,
   "metadata": {},
   "outputs": [],
   "source": [
    "# Combinig train and test data\n",
    "df_test = pd.concat([df_test_cat,df_test_num],axis=1)\n",
    "df = pd.concat([df_cat,df_num],axis=1)"
   ]
  },
  {
   "cell_type": "code",
   "execution_count": 67,
   "metadata": {},
   "outputs": [
    {
     "data": {
      "text/plain": [
       "(5961, 1818)"
      ]
     },
     "execution_count": 67,
     "metadata": {},
     "output_type": "execute_result"
    }
   ],
   "source": [
    "df.shape"
   ]
  },
  {
   "cell_type": "code",
   "execution_count": 68,
   "metadata": {},
   "outputs": [
    {
     "data": {
      "text/plain": [
       "(1987, 1817)"
      ]
     },
     "execution_count": 68,
     "metadata": {},
     "output_type": "execute_result"
    }
   ],
   "source": [
    "df_test.shape"
   ]
  },
  {
   "cell_type": "code",
   "execution_count": 69,
   "metadata": {},
   "outputs": [
    {
     "data": {
      "text/html": [
       "<div>\n",
       "<style scoped>\n",
       "    .dataframe tbody tr th:only-of-type {\n",
       "        vertical-align: middle;\n",
       "    }\n",
       "\n",
       "    .dataframe tbody tr th {\n",
       "        vertical-align: top;\n",
       "    }\n",
       "\n",
       "    .dataframe thead th {\n",
       "        text-align: right;\n",
       "    }\n",
       "</style>\n",
       "<table border=\"1\" class=\"dataframe\">\n",
       "  <thead>\n",
       "    <tr style=\"text-align: right;\">\n",
       "      <th></th>\n",
       "      <th>Qualification_Advanced Certificate Course in Aesthetic Dentistry, BDS, Professional Implantology Training Course (PITC), FAGE- FELLOW, Comprehensive Course in Modern Endodontics</th>\n",
       "      <th>Qualification_Ayurvedic panchkarma, BAMS</th>\n",
       "      <th>Qualification_B.Ac, BEMS</th>\n",
       "      <th>Qualification_B.Sc, BAMS</th>\n",
       "      <th>Qualification_B.Sc, BAMS, MD - Ayurveda Medicine</th>\n",
       "      <th>Qualification_B.Sc, BAMS, MD - Yoga and Rehab</th>\n",
       "      <th>Qualification_B.Sc, BHMS, Certificate in Food and Nutrition, Certificate Course in Advanced Homoeopathy (C.C.A.H)</th>\n",
       "      <th>Qualification_B.Sc, MBBS</th>\n",
       "      <th>Qualification_B.Sc, MBBS, DDVL, MD - Dermatology</th>\n",
       "      <th>Qualification_B.Sc, MBBS, Diploma in Otorhinolaryngology (DLO)</th>\n",
       "      <th>...</th>\n",
       "      <th>City_ Ernakulam</th>\n",
       "      <th>City_ Hyderabad</th>\n",
       "      <th>City_ Mumbai</th>\n",
       "      <th>City_ Thiruvananthapuram</th>\n",
       "      <th>City_missing</th>\n",
       "      <th>Experience</th>\n",
       "      <th>Rating</th>\n",
       "      <th>Fees</th>\n",
       "      <th>Feedback</th>\n",
       "      <th>Miscellaneous_Fees</th>\n",
       "    </tr>\n",
       "  </thead>\n",
       "  <tbody>\n",
       "    <tr>\n",
       "      <th>0</th>\n",
       "      <td>0</td>\n",
       "      <td>0</td>\n",
       "      <td>0</td>\n",
       "      <td>0</td>\n",
       "      <td>0</td>\n",
       "      <td>0</td>\n",
       "      <td>0</td>\n",
       "      <td>0</td>\n",
       "      <td>0</td>\n",
       "      <td>0</td>\n",
       "      <td>...</td>\n",
       "      <td>1</td>\n",
       "      <td>0</td>\n",
       "      <td>0</td>\n",
       "      <td>0</td>\n",
       "      <td>0</td>\n",
       "      <td>24</td>\n",
       "      <td>100</td>\n",
       "      <td>100</td>\n",
       "      <td>2.833213</td>\n",
       "      <td>5.303305</td>\n",
       "    </tr>\n",
       "    <tr>\n",
       "      <th>1</th>\n",
       "      <td>0</td>\n",
       "      <td>0</td>\n",
       "      <td>0</td>\n",
       "      <td>0</td>\n",
       "      <td>0</td>\n",
       "      <td>0</td>\n",
       "      <td>0</td>\n",
       "      <td>0</td>\n",
       "      <td>0</td>\n",
       "      <td>0</td>\n",
       "      <td>...</td>\n",
       "      <td>0</td>\n",
       "      <td>0</td>\n",
       "      <td>0</td>\n",
       "      <td>0</td>\n",
       "      <td>0</td>\n",
       "      <td>12</td>\n",
       "      <td>98</td>\n",
       "      <td>350</td>\n",
       "      <td>4.343805</td>\n",
       "      <td>5.303305</td>\n",
       "    </tr>\n",
       "    <tr>\n",
       "      <th>2</th>\n",
       "      <td>0</td>\n",
       "      <td>0</td>\n",
       "      <td>0</td>\n",
       "      <td>0</td>\n",
       "      <td>0</td>\n",
       "      <td>0</td>\n",
       "      <td>0</td>\n",
       "      <td>0</td>\n",
       "      <td>0</td>\n",
       "      <td>0</td>\n",
       "      <td>...</td>\n",
       "      <td>0</td>\n",
       "      <td>0</td>\n",
       "      <td>0</td>\n",
       "      <td>0</td>\n",
       "      <td>0</td>\n",
       "      <td>9</td>\n",
       "      <td>0</td>\n",
       "      <td>300</td>\n",
       "      <td>0.000000</td>\n",
       "      <td>5.303305</td>\n",
       "    </tr>\n",
       "    <tr>\n",
       "      <th>3</th>\n",
       "      <td>0</td>\n",
       "      <td>0</td>\n",
       "      <td>0</td>\n",
       "      <td>0</td>\n",
       "      <td>0</td>\n",
       "      <td>0</td>\n",
       "      <td>0</td>\n",
       "      <td>0</td>\n",
       "      <td>0</td>\n",
       "      <td>0</td>\n",
       "      <td>...</td>\n",
       "      <td>0</td>\n",
       "      <td>0</td>\n",
       "      <td>0</td>\n",
       "      <td>0</td>\n",
       "      <td>0</td>\n",
       "      <td>12</td>\n",
       "      <td>0</td>\n",
       "      <td>250</td>\n",
       "      <td>0.000000</td>\n",
       "      <td>5.525453</td>\n",
       "    </tr>\n",
       "    <tr>\n",
       "      <th>4</th>\n",
       "      <td>0</td>\n",
       "      <td>0</td>\n",
       "      <td>0</td>\n",
       "      <td>0</td>\n",
       "      <td>0</td>\n",
       "      <td>0</td>\n",
       "      <td>0</td>\n",
       "      <td>0</td>\n",
       "      <td>0</td>\n",
       "      <td>0</td>\n",
       "      <td>...</td>\n",
       "      <td>0</td>\n",
       "      <td>0</td>\n",
       "      <td>0</td>\n",
       "      <td>0</td>\n",
       "      <td>0</td>\n",
       "      <td>20</td>\n",
       "      <td>100</td>\n",
       "      <td>250</td>\n",
       "      <td>1.609438</td>\n",
       "      <td>5.303305</td>\n",
       "    </tr>\n",
       "    <tr>\n",
       "      <th>...</th>\n",
       "      <td>...</td>\n",
       "      <td>...</td>\n",
       "      <td>...</td>\n",
       "      <td>...</td>\n",
       "      <td>...</td>\n",
       "      <td>...</td>\n",
       "      <td>...</td>\n",
       "      <td>...</td>\n",
       "      <td>...</td>\n",
       "      <td>...</td>\n",
       "      <td>...</td>\n",
       "      <td>...</td>\n",
       "      <td>...</td>\n",
       "      <td>...</td>\n",
       "      <td>...</td>\n",
       "      <td>...</td>\n",
       "      <td>...</td>\n",
       "      <td>...</td>\n",
       "      <td>...</td>\n",
       "      <td>...</td>\n",
       "      <td>...</td>\n",
       "    </tr>\n",
       "    <tr>\n",
       "      <th>5956</th>\n",
       "      <td>0</td>\n",
       "      <td>0</td>\n",
       "      <td>0</td>\n",
       "      <td>0</td>\n",
       "      <td>0</td>\n",
       "      <td>0</td>\n",
       "      <td>0</td>\n",
       "      <td>0</td>\n",
       "      <td>0</td>\n",
       "      <td>0</td>\n",
       "      <td>...</td>\n",
       "      <td>0</td>\n",
       "      <td>0</td>\n",
       "      <td>0</td>\n",
       "      <td>0</td>\n",
       "      <td>0</td>\n",
       "      <td>19</td>\n",
       "      <td>98</td>\n",
       "      <td>300</td>\n",
       "      <td>3.828641</td>\n",
       "      <td>5.303305</td>\n",
       "    </tr>\n",
       "    <tr>\n",
       "      <th>5957</th>\n",
       "      <td>0</td>\n",
       "      <td>0</td>\n",
       "      <td>0</td>\n",
       "      <td>0</td>\n",
       "      <td>0</td>\n",
       "      <td>0</td>\n",
       "      <td>0</td>\n",
       "      <td>0</td>\n",
       "      <td>0</td>\n",
       "      <td>0</td>\n",
       "      <td>...</td>\n",
       "      <td>0</td>\n",
       "      <td>0</td>\n",
       "      <td>0</td>\n",
       "      <td>0</td>\n",
       "      <td>0</td>\n",
       "      <td>33</td>\n",
       "      <td>0</td>\n",
       "      <td>100</td>\n",
       "      <td>0.000000</td>\n",
       "      <td>5.303305</td>\n",
       "    </tr>\n",
       "    <tr>\n",
       "      <th>5958</th>\n",
       "      <td>0</td>\n",
       "      <td>0</td>\n",
       "      <td>0</td>\n",
       "      <td>0</td>\n",
       "      <td>0</td>\n",
       "      <td>0</td>\n",
       "      <td>0</td>\n",
       "      <td>0</td>\n",
       "      <td>0</td>\n",
       "      <td>0</td>\n",
       "      <td>...</td>\n",
       "      <td>0</td>\n",
       "      <td>0</td>\n",
       "      <td>0</td>\n",
       "      <td>0</td>\n",
       "      <td>0</td>\n",
       "      <td>41</td>\n",
       "      <td>97</td>\n",
       "      <td>600</td>\n",
       "      <td>2.484907</td>\n",
       "      <td>5.303305</td>\n",
       "    </tr>\n",
       "    <tr>\n",
       "      <th>5959</th>\n",
       "      <td>0</td>\n",
       "      <td>0</td>\n",
       "      <td>0</td>\n",
       "      <td>0</td>\n",
       "      <td>0</td>\n",
       "      <td>0</td>\n",
       "      <td>0</td>\n",
       "      <td>0</td>\n",
       "      <td>0</td>\n",
       "      <td>0</td>\n",
       "      <td>...</td>\n",
       "      <td>0</td>\n",
       "      <td>0</td>\n",
       "      <td>1</td>\n",
       "      <td>0</td>\n",
       "      <td>0</td>\n",
       "      <td>15</td>\n",
       "      <td>90</td>\n",
       "      <td>100</td>\n",
       "      <td>0.000000</td>\n",
       "      <td>5.303305</td>\n",
       "    </tr>\n",
       "    <tr>\n",
       "      <th>5960</th>\n",
       "      <td>0</td>\n",
       "      <td>0</td>\n",
       "      <td>0</td>\n",
       "      <td>0</td>\n",
       "      <td>0</td>\n",
       "      <td>0</td>\n",
       "      <td>0</td>\n",
       "      <td>0</td>\n",
       "      <td>0</td>\n",
       "      <td>0</td>\n",
       "      <td>...</td>\n",
       "      <td>0</td>\n",
       "      <td>0</td>\n",
       "      <td>0</td>\n",
       "      <td>0</td>\n",
       "      <td>0</td>\n",
       "      <td>17</td>\n",
       "      <td>100</td>\n",
       "      <td>200</td>\n",
       "      <td>0.000000</td>\n",
       "      <td>5.303305</td>\n",
       "    </tr>\n",
       "  </tbody>\n",
       "</table>\n",
       "<p>5961 rows × 1818 columns</p>\n",
       "</div>"
      ],
      "text/plain": [
       "      Qualification_Advanced Certificate Course in Aesthetic Dentistry, BDS, Professional Implantology Training Course (PITC), FAGE- FELLOW, Comprehensive Course in Modern Endodontics  \\\n",
       "0                                                     0                                                                                                                                   \n",
       "1                                                     0                                                                                                                                   \n",
       "2                                                     0                                                                                                                                   \n",
       "3                                                     0                                                                                                                                   \n",
       "4                                                     0                                                                                                                                   \n",
       "...                                                 ...                                                                                                                                   \n",
       "5956                                                  0                                                                                                                                   \n",
       "5957                                                  0                                                                                                                                   \n",
       "5958                                                  0                                                                                                                                   \n",
       "5959                                                  0                                                                                                                                   \n",
       "5960                                                  0                                                                                                                                   \n",
       "\n",
       "      Qualification_Ayurvedic panchkarma, BAMS  Qualification_B.Ac, BEMS  \\\n",
       "0                                            0                         0   \n",
       "1                                            0                         0   \n",
       "2                                            0                         0   \n",
       "3                                            0                         0   \n",
       "4                                            0                         0   \n",
       "...                                        ...                       ...   \n",
       "5956                                         0                         0   \n",
       "5957                                         0                         0   \n",
       "5958                                         0                         0   \n",
       "5959                                         0                         0   \n",
       "5960                                         0                         0   \n",
       "\n",
       "      Qualification_B.Sc, BAMS  \\\n",
       "0                            0   \n",
       "1                            0   \n",
       "2                            0   \n",
       "3                            0   \n",
       "4                            0   \n",
       "...                        ...   \n",
       "5956                         0   \n",
       "5957                         0   \n",
       "5958                         0   \n",
       "5959                         0   \n",
       "5960                         0   \n",
       "\n",
       "      Qualification_B.Sc, BAMS, MD - Ayurveda Medicine  \\\n",
       "0                                                    0   \n",
       "1                                                    0   \n",
       "2                                                    0   \n",
       "3                                                    0   \n",
       "4                                                    0   \n",
       "...                                                ...   \n",
       "5956                                                 0   \n",
       "5957                                                 0   \n",
       "5958                                                 0   \n",
       "5959                                                 0   \n",
       "5960                                                 0   \n",
       "\n",
       "      Qualification_B.Sc, BAMS, MD - Yoga and Rehab  \\\n",
       "0                                                 0   \n",
       "1                                                 0   \n",
       "2                                                 0   \n",
       "3                                                 0   \n",
       "4                                                 0   \n",
       "...                                             ...   \n",
       "5956                                              0   \n",
       "5957                                              0   \n",
       "5958                                              0   \n",
       "5959                                              0   \n",
       "5960                                              0   \n",
       "\n",
       "      Qualification_B.Sc, BHMS, Certificate in Food and Nutrition, Certificate Course in Advanced Homoeopathy (C.C.A.H)  \\\n",
       "0                                                     0                                                                   \n",
       "1                                                     0                                                                   \n",
       "2                                                     0                                                                   \n",
       "3                                                     0                                                                   \n",
       "4                                                     0                                                                   \n",
       "...                                                 ...                                                                   \n",
       "5956                                                  0                                                                   \n",
       "5957                                                  0                                                                   \n",
       "5958                                                  0                                                                   \n",
       "5959                                                  0                                                                   \n",
       "5960                                                  0                                                                   \n",
       "\n",
       "      Qualification_B.Sc, MBBS  \\\n",
       "0                            0   \n",
       "1                            0   \n",
       "2                            0   \n",
       "3                            0   \n",
       "4                            0   \n",
       "...                        ...   \n",
       "5956                         0   \n",
       "5957                         0   \n",
       "5958                         0   \n",
       "5959                         0   \n",
       "5960                         0   \n",
       "\n",
       "      Qualification_B.Sc, MBBS, DDVL, MD - Dermatology  \\\n",
       "0                                                    0   \n",
       "1                                                    0   \n",
       "2                                                    0   \n",
       "3                                                    0   \n",
       "4                                                    0   \n",
       "...                                                ...   \n",
       "5956                                                 0   \n",
       "5957                                                 0   \n",
       "5958                                                 0   \n",
       "5959                                                 0   \n",
       "5960                                                 0   \n",
       "\n",
       "      Qualification_B.Sc, MBBS, Diploma in Otorhinolaryngology (DLO)  ...  \\\n",
       "0                                                     0               ...   \n",
       "1                                                     0               ...   \n",
       "2                                                     0               ...   \n",
       "3                                                     0               ...   \n",
       "4                                                     0               ...   \n",
       "...                                                 ...               ...   \n",
       "5956                                                  0               ...   \n",
       "5957                                                  0               ...   \n",
       "5958                                                  0               ...   \n",
       "5959                                                  0               ...   \n",
       "5960                                                  0               ...   \n",
       "\n",
       "      City_ Ernakulam  City_ Hyderabad  City_ Mumbai  \\\n",
       "0                   1                0             0   \n",
       "1                   0                0             0   \n",
       "2                   0                0             0   \n",
       "3                   0                0             0   \n",
       "4                   0                0             0   \n",
       "...               ...              ...           ...   \n",
       "5956                0                0             0   \n",
       "5957                0                0             0   \n",
       "5958                0                0             0   \n",
       "5959                0                0             1   \n",
       "5960                0                0             0   \n",
       "\n",
       "      City_ Thiruvananthapuram  City_missing  Experience  Rating  Fees  \\\n",
       "0                            0             0          24     100   100   \n",
       "1                            0             0          12      98   350   \n",
       "2                            0             0           9       0   300   \n",
       "3                            0             0          12       0   250   \n",
       "4                            0             0          20     100   250   \n",
       "...                        ...           ...         ...     ...   ...   \n",
       "5956                         0             0          19      98   300   \n",
       "5957                         0             0          33       0   100   \n",
       "5958                         0             0          41      97   600   \n",
       "5959                         0             0          15      90   100   \n",
       "5960                         0             0          17     100   200   \n",
       "\n",
       "      Feedback  Miscellaneous_Fees  \n",
       "0     2.833213            5.303305  \n",
       "1     4.343805            5.303305  \n",
       "2     0.000000            5.303305  \n",
       "3     0.000000            5.525453  \n",
       "4     1.609438            5.303305  \n",
       "...        ...                 ...  \n",
       "5956  3.828641            5.303305  \n",
       "5957  0.000000            5.303305  \n",
       "5958  2.484907            5.303305  \n",
       "5959  0.000000            5.303305  \n",
       "5960  0.000000            5.303305  \n",
       "\n",
       "[5961 rows x 1818 columns]"
      ]
     },
     "execution_count": 69,
     "metadata": {},
     "output_type": "execute_result"
    }
   ],
   "source": [
    "df"
   ]
  },
  {
   "cell_type": "code",
   "execution_count": 70,
   "metadata": {},
   "outputs": [
    {
     "data": {
      "text/html": [
       "<div>\n",
       "<style scoped>\n",
       "    .dataframe tbody tr th:only-of-type {\n",
       "        vertical-align: middle;\n",
       "    }\n",
       "\n",
       "    .dataframe tbody tr th {\n",
       "        vertical-align: top;\n",
       "    }\n",
       "\n",
       "    .dataframe thead th {\n",
       "        text-align: right;\n",
       "    }\n",
       "</style>\n",
       "<table border=\"1\" class=\"dataframe\">\n",
       "  <thead>\n",
       "    <tr style=\"text-align: right;\">\n",
       "      <th></th>\n",
       "      <th>Qualification_Advanced Certificate Course in Aesthetic Dentistry, BDS, Professional Implantology Training Course (PITC), FAGE- FELLOW, Comprehensive Course in Modern Endodontics</th>\n",
       "      <th>Qualification_Ayurvedic panchkarma, BAMS</th>\n",
       "      <th>Qualification_B.Ac, BEMS</th>\n",
       "      <th>Qualification_B.Sc, BAMS</th>\n",
       "      <th>Qualification_B.Sc, BAMS, MD - Ayurveda Medicine</th>\n",
       "      <th>Qualification_B.Sc, BAMS, MD - Yoga and Rehab</th>\n",
       "      <th>Qualification_B.Sc, BHMS, Certificate in Food and Nutrition, Certificate Course in Advanced Homoeopathy (C.C.A.H)</th>\n",
       "      <th>Qualification_B.Sc, MBBS</th>\n",
       "      <th>Qualification_B.Sc, MBBS, DDVL, MD - Dermatology</th>\n",
       "      <th>Qualification_B.Sc, MBBS, Diploma in Otorhinolaryngology (DLO)</th>\n",
       "      <th>...</th>\n",
       "      <th>City_ Delhi</th>\n",
       "      <th>City_ Ernakulam</th>\n",
       "      <th>City_ Hyderabad</th>\n",
       "      <th>City_ Mumbai</th>\n",
       "      <th>City_ Thiruvananthapuram</th>\n",
       "      <th>City_missing</th>\n",
       "      <th>Experience</th>\n",
       "      <th>Rating</th>\n",
       "      <th>Feedback</th>\n",
       "      <th>Miscellaneous_Fees</th>\n",
       "    </tr>\n",
       "  </thead>\n",
       "  <tbody>\n",
       "    <tr>\n",
       "      <th>0</th>\n",
       "      <td>0</td>\n",
       "      <td>0</td>\n",
       "      <td>0</td>\n",
       "      <td>0</td>\n",
       "      <td>0</td>\n",
       "      <td>0</td>\n",
       "      <td>0</td>\n",
       "      <td>0</td>\n",
       "      <td>0</td>\n",
       "      <td>0</td>\n",
       "      <td>...</td>\n",
       "      <td>0</td>\n",
       "      <td>0</td>\n",
       "      <td>0</td>\n",
       "      <td>1</td>\n",
       "      <td>0</td>\n",
       "      <td>0</td>\n",
       "      <td>35</td>\n",
       "      <td>0</td>\n",
       "      <td>0</td>\n",
       "      <td>500</td>\n",
       "    </tr>\n",
       "    <tr>\n",
       "      <th>1</th>\n",
       "      <td>0</td>\n",
       "      <td>0</td>\n",
       "      <td>0</td>\n",
       "      <td>0</td>\n",
       "      <td>0</td>\n",
       "      <td>0</td>\n",
       "      <td>0</td>\n",
       "      <td>0</td>\n",
       "      <td>0</td>\n",
       "      <td>0</td>\n",
       "      <td>...</td>\n",
       "      <td>0</td>\n",
       "      <td>0</td>\n",
       "      <td>1</td>\n",
       "      <td>0</td>\n",
       "      <td>0</td>\n",
       "      <td>0</td>\n",
       "      <td>31</td>\n",
       "      <td>0</td>\n",
       "      <td>0</td>\n",
       "      <td>500</td>\n",
       "    </tr>\n",
       "    <tr>\n",
       "      <th>2</th>\n",
       "      <td>0</td>\n",
       "      <td>0</td>\n",
       "      <td>0</td>\n",
       "      <td>0</td>\n",
       "      <td>0</td>\n",
       "      <td>0</td>\n",
       "      <td>0</td>\n",
       "      <td>0</td>\n",
       "      <td>0</td>\n",
       "      <td>0</td>\n",
       "      <td>...</td>\n",
       "      <td>0</td>\n",
       "      <td>0</td>\n",
       "      <td>0</td>\n",
       "      <td>0</td>\n",
       "      <td>0</td>\n",
       "      <td>0</td>\n",
       "      <td>40</td>\n",
       "      <td>70</td>\n",
       "      <td>4</td>\n",
       "      <td>500</td>\n",
       "    </tr>\n",
       "    <tr>\n",
       "      <th>3</th>\n",
       "      <td>0</td>\n",
       "      <td>0</td>\n",
       "      <td>0</td>\n",
       "      <td>0</td>\n",
       "      <td>0</td>\n",
       "      <td>0</td>\n",
       "      <td>0</td>\n",
       "      <td>0</td>\n",
       "      <td>0</td>\n",
       "      <td>0</td>\n",
       "      <td>...</td>\n",
       "      <td>1</td>\n",
       "      <td>0</td>\n",
       "      <td>0</td>\n",
       "      <td>0</td>\n",
       "      <td>0</td>\n",
       "      <td>0</td>\n",
       "      <td>0</td>\n",
       "      <td>0</td>\n",
       "      <td>0</td>\n",
       "      <td>500</td>\n",
       "    </tr>\n",
       "    <tr>\n",
       "      <th>4</th>\n",
       "      <td>0</td>\n",
       "      <td>0</td>\n",
       "      <td>0</td>\n",
       "      <td>0</td>\n",
       "      <td>0</td>\n",
       "      <td>0</td>\n",
       "      <td>0</td>\n",
       "      <td>0</td>\n",
       "      <td>0</td>\n",
       "      <td>0</td>\n",
       "      <td>...</td>\n",
       "      <td>0</td>\n",
       "      <td>0</td>\n",
       "      <td>0</td>\n",
       "      <td>0</td>\n",
       "      <td>0</td>\n",
       "      <td>0</td>\n",
       "      <td>16</td>\n",
       "      <td>100</td>\n",
       "      <td>0</td>\n",
       "      <td>500</td>\n",
       "    </tr>\n",
       "    <tr>\n",
       "      <th>...</th>\n",
       "      <td>...</td>\n",
       "      <td>...</td>\n",
       "      <td>...</td>\n",
       "      <td>...</td>\n",
       "      <td>...</td>\n",
       "      <td>...</td>\n",
       "      <td>...</td>\n",
       "      <td>...</td>\n",
       "      <td>...</td>\n",
       "      <td>...</td>\n",
       "      <td>...</td>\n",
       "      <td>...</td>\n",
       "      <td>...</td>\n",
       "      <td>...</td>\n",
       "      <td>...</td>\n",
       "      <td>...</td>\n",
       "      <td>...</td>\n",
       "      <td>...</td>\n",
       "      <td>...</td>\n",
       "      <td>...</td>\n",
       "      <td>...</td>\n",
       "    </tr>\n",
       "    <tr>\n",
       "      <th>1982</th>\n",
       "      <td>0</td>\n",
       "      <td>0</td>\n",
       "      <td>0</td>\n",
       "      <td>0</td>\n",
       "      <td>0</td>\n",
       "      <td>0</td>\n",
       "      <td>0</td>\n",
       "      <td>0</td>\n",
       "      <td>0</td>\n",
       "      <td>0</td>\n",
       "      <td>...</td>\n",
       "      <td>0</td>\n",
       "      <td>0</td>\n",
       "      <td>0</td>\n",
       "      <td>0</td>\n",
       "      <td>0</td>\n",
       "      <td>0</td>\n",
       "      <td>10</td>\n",
       "      <td>0</td>\n",
       "      <td>0</td>\n",
       "      <td>500</td>\n",
       "    </tr>\n",
       "    <tr>\n",
       "      <th>1983</th>\n",
       "      <td>0</td>\n",
       "      <td>0</td>\n",
       "      <td>0</td>\n",
       "      <td>0</td>\n",
       "      <td>0</td>\n",
       "      <td>0</td>\n",
       "      <td>0</td>\n",
       "      <td>0</td>\n",
       "      <td>0</td>\n",
       "      <td>0</td>\n",
       "      <td>...</td>\n",
       "      <td>0</td>\n",
       "      <td>0</td>\n",
       "      <td>0</td>\n",
       "      <td>0</td>\n",
       "      <td>0</td>\n",
       "      <td>0</td>\n",
       "      <td>4</td>\n",
       "      <td>0</td>\n",
       "      <td>0</td>\n",
       "      <td>500</td>\n",
       "    </tr>\n",
       "    <tr>\n",
       "      <th>1984</th>\n",
       "      <td>0</td>\n",
       "      <td>0</td>\n",
       "      <td>0</td>\n",
       "      <td>0</td>\n",
       "      <td>0</td>\n",
       "      <td>0</td>\n",
       "      <td>0</td>\n",
       "      <td>0</td>\n",
       "      <td>0</td>\n",
       "      <td>0</td>\n",
       "      <td>...</td>\n",
       "      <td>0</td>\n",
       "      <td>0</td>\n",
       "      <td>0</td>\n",
       "      <td>0</td>\n",
       "      <td>0</td>\n",
       "      <td>0</td>\n",
       "      <td>9</td>\n",
       "      <td>0</td>\n",
       "      <td>0</td>\n",
       "      <td>500</td>\n",
       "    </tr>\n",
       "    <tr>\n",
       "      <th>1985</th>\n",
       "      <td>0</td>\n",
       "      <td>0</td>\n",
       "      <td>0</td>\n",
       "      <td>0</td>\n",
       "      <td>0</td>\n",
       "      <td>0</td>\n",
       "      <td>0</td>\n",
       "      <td>0</td>\n",
       "      <td>0</td>\n",
       "      <td>0</td>\n",
       "      <td>...</td>\n",
       "      <td>0</td>\n",
       "      <td>0</td>\n",
       "      <td>0</td>\n",
       "      <td>0</td>\n",
       "      <td>0</td>\n",
       "      <td>0</td>\n",
       "      <td>12</td>\n",
       "      <td>98</td>\n",
       "      <td>0</td>\n",
       "      <td>500</td>\n",
       "    </tr>\n",
       "    <tr>\n",
       "      <th>1986</th>\n",
       "      <td>0</td>\n",
       "      <td>0</td>\n",
       "      <td>0</td>\n",
       "      <td>0</td>\n",
       "      <td>0</td>\n",
       "      <td>0</td>\n",
       "      <td>0</td>\n",
       "      <td>0</td>\n",
       "      <td>0</td>\n",
       "      <td>0</td>\n",
       "      <td>...</td>\n",
       "      <td>0</td>\n",
       "      <td>0</td>\n",
       "      <td>0</td>\n",
       "      <td>0</td>\n",
       "      <td>0</td>\n",
       "      <td>0</td>\n",
       "      <td>8</td>\n",
       "      <td>0</td>\n",
       "      <td>1</td>\n",
       "      <td>500</td>\n",
       "    </tr>\n",
       "  </tbody>\n",
       "</table>\n",
       "<p>1987 rows × 1817 columns</p>\n",
       "</div>"
      ],
      "text/plain": [
       "      Qualification_Advanced Certificate Course in Aesthetic Dentistry, BDS, Professional Implantology Training Course (PITC), FAGE- FELLOW, Comprehensive Course in Modern Endodontics  \\\n",
       "0                                                     0                                                                                                                                   \n",
       "1                                                     0                                                                                                                                   \n",
       "2                                                     0                                                                                                                                   \n",
       "3                                                     0                                                                                                                                   \n",
       "4                                                     0                                                                                                                                   \n",
       "...                                                 ...                                                                                                                                   \n",
       "1982                                                  0                                                                                                                                   \n",
       "1983                                                  0                                                                                                                                   \n",
       "1984                                                  0                                                                                                                                   \n",
       "1985                                                  0                                                                                                                                   \n",
       "1986                                                  0                                                                                                                                   \n",
       "\n",
       "      Qualification_Ayurvedic panchkarma, BAMS  Qualification_B.Ac, BEMS  \\\n",
       "0                                            0                         0   \n",
       "1                                            0                         0   \n",
       "2                                            0                         0   \n",
       "3                                            0                         0   \n",
       "4                                            0                         0   \n",
       "...                                        ...                       ...   \n",
       "1982                                         0                         0   \n",
       "1983                                         0                         0   \n",
       "1984                                         0                         0   \n",
       "1985                                         0                         0   \n",
       "1986                                         0                         0   \n",
       "\n",
       "      Qualification_B.Sc, BAMS  \\\n",
       "0                            0   \n",
       "1                            0   \n",
       "2                            0   \n",
       "3                            0   \n",
       "4                            0   \n",
       "...                        ...   \n",
       "1982                         0   \n",
       "1983                         0   \n",
       "1984                         0   \n",
       "1985                         0   \n",
       "1986                         0   \n",
       "\n",
       "      Qualification_B.Sc, BAMS, MD - Ayurveda Medicine  \\\n",
       "0                                                    0   \n",
       "1                                                    0   \n",
       "2                                                    0   \n",
       "3                                                    0   \n",
       "4                                                    0   \n",
       "...                                                ...   \n",
       "1982                                                 0   \n",
       "1983                                                 0   \n",
       "1984                                                 0   \n",
       "1985                                                 0   \n",
       "1986                                                 0   \n",
       "\n",
       "      Qualification_B.Sc, BAMS, MD - Yoga and Rehab  \\\n",
       "0                                                 0   \n",
       "1                                                 0   \n",
       "2                                                 0   \n",
       "3                                                 0   \n",
       "4                                                 0   \n",
       "...                                             ...   \n",
       "1982                                              0   \n",
       "1983                                              0   \n",
       "1984                                              0   \n",
       "1985                                              0   \n",
       "1986                                              0   \n",
       "\n",
       "      Qualification_B.Sc, BHMS, Certificate in Food and Nutrition, Certificate Course in Advanced Homoeopathy (C.C.A.H)  \\\n",
       "0                                                     0                                                                   \n",
       "1                                                     0                                                                   \n",
       "2                                                     0                                                                   \n",
       "3                                                     0                                                                   \n",
       "4                                                     0                                                                   \n",
       "...                                                 ...                                                                   \n",
       "1982                                                  0                                                                   \n",
       "1983                                                  0                                                                   \n",
       "1984                                                  0                                                                   \n",
       "1985                                                  0                                                                   \n",
       "1986                                                  0                                                                   \n",
       "\n",
       "      Qualification_B.Sc, MBBS  \\\n",
       "0                            0   \n",
       "1                            0   \n",
       "2                            0   \n",
       "3                            0   \n",
       "4                            0   \n",
       "...                        ...   \n",
       "1982                         0   \n",
       "1983                         0   \n",
       "1984                         0   \n",
       "1985                         0   \n",
       "1986                         0   \n",
       "\n",
       "      Qualification_B.Sc, MBBS, DDVL, MD - Dermatology  \\\n",
       "0                                                    0   \n",
       "1                                                    0   \n",
       "2                                                    0   \n",
       "3                                                    0   \n",
       "4                                                    0   \n",
       "...                                                ...   \n",
       "1982                                                 0   \n",
       "1983                                                 0   \n",
       "1984                                                 0   \n",
       "1985                                                 0   \n",
       "1986                                                 0   \n",
       "\n",
       "      Qualification_B.Sc, MBBS, Diploma in Otorhinolaryngology (DLO)  ...  \\\n",
       "0                                                     0               ...   \n",
       "1                                                     0               ...   \n",
       "2                                                     0               ...   \n",
       "3                                                     0               ...   \n",
       "4                                                     0               ...   \n",
       "...                                                 ...               ...   \n",
       "1982                                                  0               ...   \n",
       "1983                                                  0               ...   \n",
       "1984                                                  0               ...   \n",
       "1985                                                  0               ...   \n",
       "1986                                                  0               ...   \n",
       "\n",
       "      City_ Delhi  City_ Ernakulam  City_ Hyderabad  City_ Mumbai  \\\n",
       "0               0                0                0             1   \n",
       "1               0                0                1             0   \n",
       "2               0                0                0             0   \n",
       "3               1                0                0             0   \n",
       "4               0                0                0             0   \n",
       "...           ...              ...              ...           ...   \n",
       "1982            0                0                0             0   \n",
       "1983            0                0                0             0   \n",
       "1984            0                0                0             0   \n",
       "1985            0                0                0             0   \n",
       "1986            0                0                0             0   \n",
       "\n",
       "      City_ Thiruvananthapuram  City_missing  Experience  Rating  Feedback  \\\n",
       "0                            0             0          35       0         0   \n",
       "1                            0             0          31       0         0   \n",
       "2                            0             0          40      70         4   \n",
       "3                            0             0           0       0         0   \n",
       "4                            0             0          16     100         0   \n",
       "...                        ...           ...         ...     ...       ...   \n",
       "1982                         0             0          10       0         0   \n",
       "1983                         0             0           4       0         0   \n",
       "1984                         0             0           9       0         0   \n",
       "1985                         0             0          12      98         0   \n",
       "1986                         0             0           8       0         1   \n",
       "\n",
       "      Miscellaneous_Fees  \n",
       "0                    500  \n",
       "1                    500  \n",
       "2                    500  \n",
       "3                    500  \n",
       "4                    500  \n",
       "...                  ...  \n",
       "1982                 500  \n",
       "1983                 500  \n",
       "1984                 500  \n",
       "1985                 500  \n",
       "1986                 500  \n",
       "\n",
       "[1987 rows x 1817 columns]"
      ]
     },
     "execution_count": 70,
     "metadata": {},
     "output_type": "execute_result"
    }
   ],
   "source": [
    "df_test"
   ]
  },
  {
   "cell_type": "markdown",
   "metadata": {},
   "source": [
    "## Checking Outliers"
   ]
  },
  {
   "cell_type": "code",
   "execution_count": 71,
   "metadata": {
    "scrolled": true
   },
   "outputs": [
    {
     "data": {
      "image/png": "[encoded data removed]",
      "text/plain": [
       "<Figure size 720x1440 with 5 Axes>"
      ]
     },
     "metadata": {},
     "output_type": "display_data"
    }
   ],
   "source": [
    "# Plotting Outliers\n",
    "columns = ['Rating','Experience','Fees','Feedback','Miscellaneous_Fees']\n",
    "fig, axes = plt.subplots(5, figsize=(10,20))\n",
    "for i, axi in enumerate(axes.flat):\n",
    "    sns.boxplot(df[columns[i]], orient='h', ax=axi) "
   ]
  },
  {
   "cell_type": "code",
   "execution_count": 72,
   "metadata": {},
   "outputs": [
    {
     "name": "stdout",
     "output_type": "stream",
     "text": [
      "For  Experience :  6.0 \t 35.0\n",
      "0.6741794485110743\n",
      "\n",
      "\n",
      "\n",
      "For  Feedback :  0.0 \t 3.091042453358316\n",
      "1.3750049991678666\n",
      "\n",
      "\n",
      "\n"
     ]
    }
   ],
   "source": [
    "# Treating outliers\n",
    "column_out = ['Experience','Feedback']\n",
    "for col in column_out:\n",
    "    q1 = df[col].quantile(0.10)\n",
    "    q2 = df[col].quantile(0.90)\n",
    "    print('For ',col,': ',q1,'\\t',q2)\n",
    "    df[col]=np.where(df[col]<q1,q1,df[col])\n",
    "    df[col]=np.where(df[col]>q2,q2,df[col])\n",
    "    print(df[col].skew())\n",
    "    print('\\n\\n')"
   ]
  },
  {
   "cell_type": "markdown",
   "metadata": {},
   "source": [
    " # Model Training"
   ]
  },
  {
   "cell_type": "code",
   "execution_count": 73,
   "metadata": {},
   "outputs": [
    {
     "data": {
      "text/html": [
       "<div>\n",
       "<style scoped>\n",
       "    .dataframe tbody tr th:only-of-type {\n",
       "        vertical-align: middle;\n",
       "    }\n",
       "\n",
       "    .dataframe tbody tr th {\n",
       "        vertical-align: top;\n",
       "    }\n",
       "\n",
       "    .dataframe thead th {\n",
       "        text-align: right;\n",
       "    }\n",
       "</style>\n",
       "<table border=\"1\" class=\"dataframe\">\n",
       "  <thead>\n",
       "    <tr style=\"text-align: right;\">\n",
       "      <th></th>\n",
       "      <th>Qualification_Advanced Certificate Course in Aesthetic Dentistry, BDS, Professional Implantology Training Course (PITC), FAGE- FELLOW, Comprehensive Course in Modern Endodontics</th>\n",
       "      <th>Qualification_Ayurvedic panchkarma, BAMS</th>\n",
       "      <th>Qualification_B.Ac, BEMS</th>\n",
       "      <th>Qualification_B.Sc, BAMS</th>\n",
       "      <th>Qualification_B.Sc, BAMS, MD - Ayurveda Medicine</th>\n",
       "      <th>Qualification_B.Sc, BAMS, MD - Yoga and Rehab</th>\n",
       "      <th>Qualification_B.Sc, BHMS, Certificate in Food and Nutrition, Certificate Course in Advanced Homoeopathy (C.C.A.H)</th>\n",
       "      <th>Qualification_B.Sc, MBBS</th>\n",
       "      <th>Qualification_B.Sc, MBBS, DDVL, MD - Dermatology</th>\n",
       "      <th>Qualification_B.Sc, MBBS, Diploma in Otorhinolaryngology (DLO)</th>\n",
       "      <th>...</th>\n",
       "      <th>City_ Delhi</th>\n",
       "      <th>City_ Ernakulam</th>\n",
       "      <th>City_ Hyderabad</th>\n",
       "      <th>City_ Mumbai</th>\n",
       "      <th>City_ Thiruvananthapuram</th>\n",
       "      <th>City_missing</th>\n",
       "      <th>Experience</th>\n",
       "      <th>Rating</th>\n",
       "      <th>Feedback</th>\n",
       "      <th>Miscellaneous_Fees</th>\n",
       "    </tr>\n",
       "  </thead>\n",
       "  <tbody>\n",
       "    <tr>\n",
       "      <th>0</th>\n",
       "      <td>0</td>\n",
       "      <td>0</td>\n",
       "      <td>0</td>\n",
       "      <td>0</td>\n",
       "      <td>0</td>\n",
       "      <td>0</td>\n",
       "      <td>0</td>\n",
       "      <td>0</td>\n",
       "      <td>0</td>\n",
       "      <td>0</td>\n",
       "      <td>...</td>\n",
       "      <td>0</td>\n",
       "      <td>1</td>\n",
       "      <td>0</td>\n",
       "      <td>0</td>\n",
       "      <td>0</td>\n",
       "      <td>0</td>\n",
       "      <td>24.0</td>\n",
       "      <td>100</td>\n",
       "      <td>2.833213</td>\n",
       "      <td>5.303305</td>\n",
       "    </tr>\n",
       "    <tr>\n",
       "      <th>1</th>\n",
       "      <td>0</td>\n",
       "      <td>0</td>\n",
       "      <td>0</td>\n",
       "      <td>0</td>\n",
       "      <td>0</td>\n",
       "      <td>0</td>\n",
       "      <td>0</td>\n",
       "      <td>0</td>\n",
       "      <td>0</td>\n",
       "      <td>0</td>\n",
       "      <td>...</td>\n",
       "      <td>0</td>\n",
       "      <td>0</td>\n",
       "      <td>0</td>\n",
       "      <td>0</td>\n",
       "      <td>0</td>\n",
       "      <td>0</td>\n",
       "      <td>12.0</td>\n",
       "      <td>98</td>\n",
       "      <td>3.091042</td>\n",
       "      <td>5.303305</td>\n",
       "    </tr>\n",
       "    <tr>\n",
       "      <th>2</th>\n",
       "      <td>0</td>\n",
       "      <td>0</td>\n",
       "      <td>0</td>\n",
       "      <td>0</td>\n",
       "      <td>0</td>\n",
       "      <td>0</td>\n",
       "      <td>0</td>\n",
       "      <td>0</td>\n",
       "      <td>0</td>\n",
       "      <td>0</td>\n",
       "      <td>...</td>\n",
       "      <td>0</td>\n",
       "      <td>0</td>\n",
       "      <td>0</td>\n",
       "      <td>0</td>\n",
       "      <td>0</td>\n",
       "      <td>0</td>\n",
       "      <td>9.0</td>\n",
       "      <td>0</td>\n",
       "      <td>0.000000</td>\n",
       "      <td>5.303305</td>\n",
       "    </tr>\n",
       "    <tr>\n",
       "      <th>3</th>\n",
       "      <td>0</td>\n",
       "      <td>0</td>\n",
       "      <td>0</td>\n",
       "      <td>0</td>\n",
       "      <td>0</td>\n",
       "      <td>0</td>\n",
       "      <td>0</td>\n",
       "      <td>0</td>\n",
       "      <td>0</td>\n",
       "      <td>0</td>\n",
       "      <td>...</td>\n",
       "      <td>0</td>\n",
       "      <td>0</td>\n",
       "      <td>0</td>\n",
       "      <td>0</td>\n",
       "      <td>0</td>\n",
       "      <td>0</td>\n",
       "      <td>12.0</td>\n",
       "      <td>0</td>\n",
       "      <td>0.000000</td>\n",
       "      <td>5.525453</td>\n",
       "    </tr>\n",
       "    <tr>\n",
       "      <th>4</th>\n",
       "      <td>0</td>\n",
       "      <td>0</td>\n",
       "      <td>0</td>\n",
       "      <td>0</td>\n",
       "      <td>0</td>\n",
       "      <td>0</td>\n",
       "      <td>0</td>\n",
       "      <td>0</td>\n",
       "      <td>0</td>\n",
       "      <td>0</td>\n",
       "      <td>...</td>\n",
       "      <td>0</td>\n",
       "      <td>0</td>\n",
       "      <td>0</td>\n",
       "      <td>0</td>\n",
       "      <td>0</td>\n",
       "      <td>0</td>\n",
       "      <td>20.0</td>\n",
       "      <td>100</td>\n",
       "      <td>1.609438</td>\n",
       "      <td>5.303305</td>\n",
       "    </tr>\n",
       "    <tr>\n",
       "      <th>5</th>\n",
       "      <td>0</td>\n",
       "      <td>0</td>\n",
       "      <td>0</td>\n",
       "      <td>0</td>\n",
       "      <td>0</td>\n",
       "      <td>0</td>\n",
       "      <td>0</td>\n",
       "      <td>0</td>\n",
       "      <td>0</td>\n",
       "      <td>0</td>\n",
       "      <td>...</td>\n",
       "      <td>0</td>\n",
       "      <td>0</td>\n",
       "      <td>0</td>\n",
       "      <td>0</td>\n",
       "      <td>0</td>\n",
       "      <td>0</td>\n",
       "      <td>8.0</td>\n",
       "      <td>0</td>\n",
       "      <td>0.000000</td>\n",
       "      <td>5.303305</td>\n",
       "    </tr>\n",
       "    <tr>\n",
       "      <th>6</th>\n",
       "      <td>0</td>\n",
       "      <td>0</td>\n",
       "      <td>0</td>\n",
       "      <td>0</td>\n",
       "      <td>0</td>\n",
       "      <td>0</td>\n",
       "      <td>0</td>\n",
       "      <td>0</td>\n",
       "      <td>0</td>\n",
       "      <td>0</td>\n",
       "      <td>...</td>\n",
       "      <td>1</td>\n",
       "      <td>0</td>\n",
       "      <td>0</td>\n",
       "      <td>0</td>\n",
       "      <td>0</td>\n",
       "      <td>0</td>\n",
       "      <td>35.0</td>\n",
       "      <td>0</td>\n",
       "      <td>0.000000</td>\n",
       "      <td>5.303305</td>\n",
       "    </tr>\n",
       "    <tr>\n",
       "      <th>7</th>\n",
       "      <td>0</td>\n",
       "      <td>0</td>\n",
       "      <td>0</td>\n",
       "      <td>0</td>\n",
       "      <td>0</td>\n",
       "      <td>0</td>\n",
       "      <td>0</td>\n",
       "      <td>0</td>\n",
       "      <td>0</td>\n",
       "      <td>0</td>\n",
       "      <td>...</td>\n",
       "      <td>0</td>\n",
       "      <td>0</td>\n",
       "      <td>0</td>\n",
       "      <td>0</td>\n",
       "      <td>0</td>\n",
       "      <td>0</td>\n",
       "      <td>10.0</td>\n",
       "      <td>99</td>\n",
       "      <td>0.000000</td>\n",
       "      <td>5.303305</td>\n",
       "    </tr>\n",
       "    <tr>\n",
       "      <th>8</th>\n",
       "      <td>0</td>\n",
       "      <td>0</td>\n",
       "      <td>0</td>\n",
       "      <td>0</td>\n",
       "      <td>0</td>\n",
       "      <td>0</td>\n",
       "      <td>0</td>\n",
       "      <td>0</td>\n",
       "      <td>0</td>\n",
       "      <td>0</td>\n",
       "      <td>...</td>\n",
       "      <td>0</td>\n",
       "      <td>0</td>\n",
       "      <td>1</td>\n",
       "      <td>0</td>\n",
       "      <td>0</td>\n",
       "      <td>0</td>\n",
       "      <td>14.0</td>\n",
       "      <td>0</td>\n",
       "      <td>0.000000</td>\n",
       "      <td>5.303305</td>\n",
       "    </tr>\n",
       "    <tr>\n",
       "      <th>9</th>\n",
       "      <td>0</td>\n",
       "      <td>0</td>\n",
       "      <td>0</td>\n",
       "      <td>0</td>\n",
       "      <td>0</td>\n",
       "      <td>0</td>\n",
       "      <td>0</td>\n",
       "      <td>0</td>\n",
       "      <td>0</td>\n",
       "      <td>0</td>\n",
       "      <td>...</td>\n",
       "      <td>0</td>\n",
       "      <td>1</td>\n",
       "      <td>0</td>\n",
       "      <td>0</td>\n",
       "      <td>0</td>\n",
       "      <td>0</td>\n",
       "      <td>23.0</td>\n",
       "      <td>0</td>\n",
       "      <td>0.000000</td>\n",
       "      <td>5.303305</td>\n",
       "    </tr>\n",
       "  </tbody>\n",
       "</table>\n",
       "<p>10 rows × 1817 columns</p>\n",
       "</div>"
      ],
      "text/plain": [
       "   Qualification_Advanced Certificate Course in Aesthetic Dentistry, BDS, Professional Implantology Training Course (PITC), FAGE- FELLOW, Comprehensive Course in Modern Endodontics  \\\n",
       "0                                                  0                                                                                                                                   \n",
       "1                                                  0                                                                                                                                   \n",
       "2                                                  0                                                                                                                                   \n",
       "3                                                  0                                                                                                                                   \n",
       "4                                                  0                                                                                                                                   \n",
       "5                                                  0                                                                                                                                   \n",
       "6                                                  0                                                                                                                                   \n",
       "7                                                  0                                                                                                                                   \n",
       "8                                                  0                                                                                                                                   \n",
       "9                                                  0                                                                                                                                   \n",
       "\n",
       "   Qualification_Ayurvedic panchkarma, BAMS  Qualification_B.Ac, BEMS  \\\n",
       "0                                         0                         0   \n",
       "1                                         0                         0   \n",
       "2                                         0                         0   \n",
       "3                                         0                         0   \n",
       "4                                         0                         0   \n",
       "5                                         0                         0   \n",
       "6                                         0                         0   \n",
       "7                                         0                         0   \n",
       "8                                         0                         0   \n",
       "9                                         0                         0   \n",
       "\n",
       "   Qualification_B.Sc, BAMS  Qualification_B.Sc, BAMS, MD - Ayurveda Medicine  \\\n",
       "0                         0                                                 0   \n",
       "1                         0                                                 0   \n",
       "2                         0                                                 0   \n",
       "3                         0                                                 0   \n",
       "4                         0                                                 0   \n",
       "5                         0                                                 0   \n",
       "6                         0                                                 0   \n",
       "7                         0                                                 0   \n",
       "8                         0                                                 0   \n",
       "9                         0                                                 0   \n",
       "\n",
       "   Qualification_B.Sc, BAMS, MD - Yoga and Rehab  \\\n",
       "0                                              0   \n",
       "1                                              0   \n",
       "2                                              0   \n",
       "3                                              0   \n",
       "4                                              0   \n",
       "5                                              0   \n",
       "6                                              0   \n",
       "7                                              0   \n",
       "8                                              0   \n",
       "9                                              0   \n",
       "\n",
       "   Qualification_B.Sc, BHMS, Certificate in Food and Nutrition, Certificate Course in Advanced Homoeopathy (C.C.A.H)  \\\n",
       "0                                                  0                                                                   \n",
       "1                                                  0                                                                   \n",
       "2                                                  0                                                                   \n",
       "3                                                  0                                                                   \n",
       "4                                                  0                                                                   \n",
       "5                                                  0                                                                   \n",
       "6                                                  0                                                                   \n",
       "7                                                  0                                                                   \n",
       "8                                                  0                                                                   \n",
       "9                                                  0                                                                   \n",
       "\n",
       "   Qualification_B.Sc, MBBS  Qualification_B.Sc, MBBS, DDVL, MD - Dermatology  \\\n",
       "0                         0                                                 0   \n",
       "1                         0                                                 0   \n",
       "2                         0                                                 0   \n",
       "3                         0                                                 0   \n",
       "4                         0                                                 0   \n",
       "5                         0                                                 0   \n",
       "6                         0                                                 0   \n",
       "7                         0                                                 0   \n",
       "8                         0                                                 0   \n",
       "9                         0                                                 0   \n",
       "\n",
       "   Qualification_B.Sc, MBBS, Diploma in Otorhinolaryngology (DLO)  ...  \\\n",
       "0                                                  0               ...   \n",
       "1                                                  0               ...   \n",
       "2                                                  0               ...   \n",
       "3                                                  0               ...   \n",
       "4                                                  0               ...   \n",
       "5                                                  0               ...   \n",
       "6                                                  0               ...   \n",
       "7                                                  0               ...   \n",
       "8                                                  0               ...   \n",
       "9                                                  0               ...   \n",
       "\n",
       "   City_ Delhi  City_ Ernakulam  City_ Hyderabad  City_ Mumbai  \\\n",
       "0            0                1                0             0   \n",
       "1            0                0                0             0   \n",
       "2            0                0                0             0   \n",
       "3            0                0                0             0   \n",
       "4            0                0                0             0   \n",
       "5            0                0                0             0   \n",
       "6            1                0                0             0   \n",
       "7            0                0                0             0   \n",
       "8            0                0                1             0   \n",
       "9            0                1                0             0   \n",
       "\n",
       "   City_ Thiruvananthapuram  City_missing  Experience  Rating  Feedback  \\\n",
       "0                         0             0        24.0     100  2.833213   \n",
       "1                         0             0        12.0      98  3.091042   \n",
       "2                         0             0         9.0       0  0.000000   \n",
       "3                         0             0        12.0       0  0.000000   \n",
       "4                         0             0        20.0     100  1.609438   \n",
       "5                         0             0         8.0       0  0.000000   \n",
       "6                         0             0        35.0       0  0.000000   \n",
       "7                         0             0        10.0      99  0.000000   \n",
       "8                         0             0        14.0       0  0.000000   \n",
       "9                         0             0        23.0       0  0.000000   \n",
       "\n",
       "   Miscellaneous_Fees  \n",
       "0            5.303305  \n",
       "1            5.303305  \n",
       "2            5.303305  \n",
       "3            5.525453  \n",
       "4            5.303305  \n",
       "5            5.303305  \n",
       "6            5.303305  \n",
       "7            5.303305  \n",
       "8            5.303305  \n",
       "9            5.303305  \n",
       "\n",
       "[10 rows x 1817 columns]"
      ]
     },
     "execution_count": 73,
     "metadata": {},
     "output_type": "execute_result"
    }
   ],
   "source": [
    "# seprating the train dataset into input and output variables\n",
    "x = df.drop(columns=['Fees'],axis=1)\n",
    "y = df['Fees']\n",
    "x.head(10)"
   ]
  },
  {
   "cell_type": "markdown",
   "metadata": {},
   "source": [
    "### Applying PCA to input variables"
   ]
  },
  {
   "cell_type": "code",
   "execution_count": 74,
   "metadata": {},
   "outputs": [],
   "source": [
    "from sklearn.decomposition import PCA\n",
    "pca = PCA(n_components=20)"
   ]
  },
  {
   "cell_type": "code",
   "execution_count": 75,
   "metadata": {},
   "outputs": [
    {
     "data": {
      "text/plain": [
       "(5961, 20)"
      ]
     },
     "execution_count": 75,
     "metadata": {},
     "output_type": "execute_result"
    }
   ],
   "source": [
    "x = pca.fit_transform(x)\n",
    "x.shape"
   ]
  },
  {
   "cell_type": "code",
   "execution_count": 76,
   "metadata": {},
   "outputs": [
    {
     "data": {
      "text/plain": [
       "(1987, 20)"
      ]
     },
     "execution_count": 76,
     "metadata": {},
     "output_type": "execute_result"
    }
   ],
   "source": [
    "df_test = pca.fit_transform(df_test)\n",
    "df_test.shape"
   ]
  },
  {
   "cell_type": "code",
   "execution_count": 77,
   "metadata": {},
   "outputs": [],
   "source": [
    "# scaling the input variable\n",
    "from sklearn.preprocessing import StandardScaler\n",
    "sc = StandardScaler()\n",
    "x=sc.fit_transform(x)\n",
    "df_test=sc.transform(df_test)"
   ]
  },
  {
   "cell_type": "code",
   "execution_count": 78,
   "metadata": {},
   "outputs": [],
   "source": [
    "# Dividing input and target variables into train and test data\n",
    "from sklearn.model_selection import train_test_split\n",
    "x_train,x_test,y_train,y_test=train_test_split(x,y,test_size=.20,random_state=42)"
   ]
  },
  {
   "cell_type": "code",
   "execution_count": 79,
   "metadata": {},
   "outputs": [],
   "source": [
    "# Importing our model Library\n",
    "from sklearn import linear_model\n",
    "from sklearn.linear_model import LinearRegression\n",
    "from sklearn.linear_model import Lasso,Ridge,ElasticNet\n",
    "from sklearn.tree import DecisionTreeRegressor\n",
    "from sklearn.svm import SVR\n",
    "\n",
    "\n",
    "# Importing GridSearchCV\n",
    "from sklearn.model_selection import GridSearchCV, cross_val_score\n",
    "\n",
    "# Importing Evaluation metrics\n",
    "from sklearn.metrics import mean_absolute_error,mean_squared_error,r2_score"
   ]
  },
  {
   "cell_type": "markdown",
   "metadata": {},
   "source": [
    "## Finding Best Parameters"
   ]
  },
  {
   "cell_type": "code",
   "execution_count": 80,
   "metadata": {},
   "outputs": [
    {
     "name": "stdout",
     "output_type": "stream",
     "text": [
      "Fitting 5 folds for each of 48 candidates, totalling 240 fits\n"
     ]
    },
    {
     "name": "stderr",
     "output_type": "stream",
     "text": [
      "[Parallel(n_jobs=-1)]: Using backend LokyBackend with 4 concurrent workers.\n",
      "[Parallel(n_jobs=-1)]: Done  33 tasks      | elapsed:   20.7s\n",
      "[Parallel(n_jobs=-1)]: Done 154 tasks      | elapsed:  1.5min\n",
      "[Parallel(n_jobs=-1)]: Done 240 out of 240 | elapsed:  2.4min finished\n"
     ]
    },
    {
     "data": {
      "text/plain": [
       "{'kernel': 'rbf', 'gamma': 'auto', 'degree': 3, 'C': 10}"
      ]
     },
     "execution_count": 80,
     "metadata": {},
     "output_type": "execute_result"
    }
   ],
   "source": [
    "# Using RandomizedSearchCV to find best parameters in SVR\n",
    "from sklearn.model_selection import RandomizedSearchCV\n",
    "svr = SVR()\n",
    "parameters={'kernel':['rbf','poly','linear','sigmoid'],\n",
    "           'C' : [1,5,10],\n",
    "           'degree' : [3,8],\n",
    "           'gamma' : ('auto','scale')}\n",
    "grid_svc = RandomizedSearchCV(estimator=svr,\n",
    "                           param_distributions=parameters,\n",
    "                           n_iter = 100, cv = 5, \n",
    "                           verbose=2, n_jobs = -1,\n",
    "                           random_state=42)\n",
    "grid_svc.fit(x,y)\n",
    "grid_svc.best_params_"
   ]
  },
  {
   "cell_type": "code",
   "execution_count": 81,
   "metadata": {},
   "outputs": [
    {
     "name": "stdout",
     "output_type": "stream",
     "text": [
      "{'alpha': 0.1}\n",
      "0.16779447429677327\n"
     ]
    }
   ],
   "source": [
    "# Using GridSearchCV to find best parameters in Lasso regression model\n",
    "model_l = Lasso()\n",
    "alphavalue = {'alpha':[0.1,0.01,0.001,0.0001]}\n",
    "gd_l = GridSearchCV(estimator=model_l,param_grid=alphavalue,scoring='r2',cv=10)\n",
    "gd_l.fit(x,y)\n",
    "best_parameters = gd_l.best_params_\n",
    "print(best_parameters)\n",
    "best_result = gd_l.best_score_\n",
    "print(best_result)"
   ]
  },
  {
   "cell_type": "code",
   "execution_count": 82,
   "metadata": {},
   "outputs": [
    {
     "name": "stdout",
     "output_type": "stream",
     "text": [
      "{'alpha': 0.1}\n",
      "0.16775256028337698\n"
     ]
    }
   ],
   "source": [
    "# Using GridSearchCV to find best parameters in Ridge regression model\n",
    "model_r = Ridge()\n",
    "alphavalue = {'alpha':[0.1,0.01,0.001,0.0001]}\n",
    "gd_r = GridSearchCV(estimator=model_r,param_grid=alphavalue,scoring='r2',cv=10)\n",
    "gd_r.fit(x,y)\n",
    "best_parameters = gd_r.best_params_\n",
    "print(best_parameters)\n",
    "best_result = gd_r.best_score_\n",
    "print(best_result)"
   ]
  },
  {
   "cell_type": "code",
   "execution_count": 83,
   "metadata": {},
   "outputs": [
    {
     "name": "stdout",
     "output_type": "stream",
     "text": [
      "{'alpha': 0.01}\n",
      "0.16779105579649176\n"
     ]
    }
   ],
   "source": [
    "# Using GridSearchCV to find best parameters in ElasticNet regression model\n",
    "model_e = ElasticNet()\n",
    "alphavalue = {'alpha':[0.1,0.01,0.001,0.0001]}\n",
    "gd_e = GridSearchCV(estimator=model_e,param_grid=alphavalue,scoring='r2',cv=10)\n",
    "gd_e.fit(x,y)\n",
    "best_parameters = gd_e.best_params_\n",
    "print(best_parameters)\n",
    "best_result = gd_e.best_score_\n",
    "print(best_result)"
   ]
  },
  {
   "cell_type": "code",
   "execution_count": 84,
   "metadata": {},
   "outputs": [
    {
     "name": "stdout",
     "output_type": "stream",
     "text": [
      "{'criterion': 'mse'}\n",
      "-0.4372234188430175\n"
     ]
    }
   ],
   "source": [
    "# GridSearchCV for Decision Tree Regressor\n",
    "dtr = DecisionTreeRegressor()\n",
    "grid_param = { 'criterion' : ['mse', 'friedman_mse', 'mae']}\n",
    "gd_dtr = GridSearchCV(estimator=dtr,param_grid=grid_param,scoring='r2',cv=5)\n",
    "gd_dtr.fit(x,y)\n",
    "best_parameters = gd_dtr.best_params_\n",
    "print(best_parameters)\n",
    "best_result = gd_dtr.best_score_\n",
    "print(best_result)"
   ]
  },
  {
   "cell_type": "code",
   "execution_count": 85,
   "metadata": {},
   "outputs": [],
   "source": [
    "# Models with its best parameters\n",
    "model_svr = SVR(C= 10, degree=3, gamma='auto', kernel= 'rbf')\n",
    "model_Lasso = Lasso(alpha=0.1)\n",
    "model_Ridge = Ridge(alpha=0.1)\n",
    "EN = ElasticNet(alpha=0.01)\n",
    "DTR = DecisionTreeRegressor(criterion='mae')"
   ]
  },
  {
   "cell_type": "code",
   "execution_count": 86,
   "metadata": {
    "scrolled": true
   },
   "outputs": [
    {
     "name": "stdout",
     "output_type": "stream",
     "text": [
      "Score of  LinearRegression(copy_X=True, fit_intercept=True, n_jobs=None, normalize=False)  is:  0.17758087998668093\n",
      "ERROR:\n",
      "Mean absolute error :  132.67449769651705\n",
      "Mean squared error :  28783.429403219106\n",
      "Root mean squared error :  169.6567988711891\n",
      "R2 score :  0.16440365647614275\n",
      "*********************************************************************\n",
      "\n",
      "\n",
      "\n",
      "Score of  SVR(C=10, cache_size=200, coef0=0.0, degree=3, epsilon=0.1, gamma='auto',\n",
      "    kernel='rbf', max_iter=-1, shrinking=True, tol=0.001, verbose=False)  is:  0.19938609880966077\n",
      "ERROR:\n",
      "Mean absolute error :  126.75373565311631\n",
      "Mean squared error :  28253.095607791154\n",
      "Root mean squared error :  168.08657176523994\n",
      "R2 score :  0.17979949322995104\n",
      "*********************************************************************\n",
      "\n",
      "\n",
      "\n",
      "Score of  Lasso(alpha=0.1, copy_X=True, fit_intercept=True, max_iter=1000,\n",
      "      normalize=False, positive=False, precompute=False, random_state=None,\n",
      "      selection='cyclic', tol=0.0001, warm_start=False)  is:  0.17757538841283982\n",
      "ERROR:\n",
      "Mean absolute error :  132.68997202758558\n",
      "Mean squared error :  28774.12652185558\n",
      "Root mean squared error :  169.62937988996947\n",
      "R2 score :  0.16467372344914666\n",
      "*********************************************************************\n",
      "\n",
      "\n",
      "\n",
      "Score of  Ridge(alpha=0.1, copy_X=True, fit_intercept=True, max_iter=None,\n",
      "      normalize=False, random_state=None, solver='auto', tol=0.001)  is:  0.17758087990735216\n",
      "ERROR:\n",
      "Mean absolute error :  132.67464065581956\n",
      "Mean squared error :  28783.404682615932\n",
      "Root mean squared error :  169.6567260164357\n",
      "R2 score :  0.16440437412675113\n",
      "*********************************************************************\n",
      "\n",
      "\n",
      "\n",
      "Score of  ElasticNet(alpha=0.01, copy_X=True, fit_intercept=True, l1_ratio=0.5,\n",
      "           max_iter=1000, normalize=False, positive=False, precompute=False,\n",
      "           random_state=None, selection='cyclic', tol=0.0001, warm_start=False)  is:  0.1775760046442325\n",
      "ERROR:\n",
      "Mean absolute error :  132.71067772269038\n",
      "Mean squared error :  28777.280595503267\n",
      "Root mean squared error :  169.63867659087435\n",
      "R2 score :  0.16458215922410968\n",
      "*********************************************************************\n",
      "\n",
      "\n",
      "\n",
      "Score of  DecisionTreeRegressor(ccp_alpha=0.0, criterion='mae', max_depth=None,\n",
      "                      max_features=None, max_leaf_nodes=None,\n",
      "                      min_impurity_decrease=0.0, min_impurity_split=None,\n",
      "                      min_samples_leaf=1, min_samples_split=2,\n",
      "                      min_weight_fraction_leaf=0.0, presort='deprecated',\n",
      "                      random_state=None, splitter='best')  is:  0.8416898078848325\n",
      "ERROR:\n",
      "Mean absolute error :  163.89773679798827\n",
      "Mean squared error :  52511.399832355404\n",
      "Root mean squared error :  229.15365987117772\n",
      "R2 score :  -0.5244303615999337\n",
      "*********************************************************************\n",
      "\n",
      "\n",
      "\n"
     ]
    }
   ],
   "source": [
    "# Using algorithm via for loop\n",
    "model=[LinearRegression(),model_svr,model_Lasso,model_Ridge,EN,DTR]\n",
    "for m in model:\n",
    "    m.fit(x_train,y_train)\n",
    "    print('Score of ',m,' is: ',m.score(x_train,y_train))\n",
    "    pred=m.predict(x_test)\n",
    "    print('ERROR:')\n",
    "    print('Mean absolute error : ',mean_absolute_error(y_test,pred))\n",
    "    print('Mean squared error : ',mean_squared_error(y_test,pred))\n",
    "    print('Root mean squared error : ',np.sqrt(mean_squared_error(y_test,pred)))\n",
    "    print('R2 score : ',r2_score(y_test,pred))\n",
    "    print('*********************************************************************')\n",
    "    print('\\n\\n')"
   ]
  },
  {
   "cell_type": "code",
   "execution_count": 87,
   "metadata": {
    "scrolled": true
   },
   "outputs": [
    {
     "name": "stdout",
     "output_type": "stream",
     "text": [
      "Model :  LinearRegression(copy_X=True, fit_intercept=True, n_jobs=None, normalize=False)\n",
      "Score :  [0.20083985 0.14164379 0.17995238 0.13336988 0.20278452 0.18898766\n",
      " 0.18343211 0.12350119 0.14068118 0.1823315 ]\n",
      "Mean score :  0.16775240530978816\n",
      "Standard deviation :  0.028169213998609312\n",
      "**************************************************************\n",
      "\n",
      "\n",
      "\n",
      "Model :  SVR(C=10, cache_size=200, coef0=0.0, degree=3, epsilon=0.1, gamma='auto',\n",
      "    kernel='rbf', max_iter=-1, shrinking=True, tol=0.001, verbose=False)\n",
      "Score :  [0.19795117 0.17531882 0.1979763  0.113026   0.22083035 0.19431711\n",
      " 0.19059753 0.13331324 0.14158246 0.19692791]\n",
      "Mean score :  0.17618408984041573\n",
      "Standard deviation :  0.033066191854489196\n",
      "**************************************************************\n",
      "\n",
      "\n",
      "\n",
      "Model :  Lasso(alpha=0.1, copy_X=True, fit_intercept=True, max_iter=1000,\n",
      "      normalize=False, positive=False, precompute=False, random_state=None,\n",
      "      selection='cyclic', tol=0.0001, warm_start=False)\n",
      "Score :  [0.20066047 0.14208738 0.1798819  0.13339308 0.20262528 0.18888673\n",
      " 0.18322066 0.12392913 0.14084345 0.18241667]\n",
      "Mean score :  0.16779447429677327\n",
      "Standard deviation :  0.02798385390574684\n",
      "**************************************************************\n",
      "\n",
      "\n",
      "\n",
      "Model :  Ridge(alpha=0.1, copy_X=True, fit_intercept=True, max_iter=None,\n",
      "      normalize=False, random_state=None, solver='auto', tol=0.001)\n",
      "Score :  [0.20083936 0.14164464 0.17995245 0.13337033 0.2027837  0.18898743\n",
      " 0.18343184 0.12350267 0.14068177 0.18233142]\n",
      "Mean score :  0.16775256028337698\n",
      "Standard deviation :  0.028168596311111873\n",
      "**************************************************************\n",
      "\n",
      "\n",
      "\n",
      "Model :  ElasticNet(alpha=0.01, copy_X=True, fit_intercept=True, l1_ratio=0.5,\n",
      "           max_iter=1000, normalize=False, positive=False, precompute=False,\n",
      "           random_state=None, selection='cyclic', tol=0.0001, warm_start=False)\n",
      "Score :  [0.20069552 0.14188766 0.17996335 0.13348866 0.20255117 0.18891477\n",
      " 0.1833459  0.12391285 0.14084018 0.1823105 ]\n",
      "Mean score :  0.16779105579649176\n",
      "Standard deviation :  0.02799535389495953\n",
      "**************************************************************\n",
      "\n",
      "\n",
      "\n",
      "Model :  DecisionTreeRegressor(ccp_alpha=0.0, criterion='mae', max_depth=None,\n",
      "                      max_features=None, max_leaf_nodes=None,\n",
      "                      min_impurity_decrease=0.0, min_impurity_split=None,\n",
      "                      min_samples_leaf=1, min_samples_split=2,\n",
      "                      min_weight_fraction_leaf=0.0, presort='deprecated',\n",
      "                      random_state=None, splitter='best')\n",
      "Score :  [-0.49975606 -0.45759683 -0.39250467 -0.32009063 -0.36715677 -0.37499525\n",
      " -0.40815302 -0.50188177 -0.44822507 -0.34820677]\n",
      "Mean score :  -0.41185668658369645\n",
      "Standard deviation :  0.05955083732573573\n",
      "**************************************************************\n",
      "\n",
      "\n",
      "\n"
     ]
    }
   ],
   "source": [
    "# cross validate the models\n",
    "models = [LinearRegression(),model_svr,model_Lasso,model_Ridge,EN,DTR]\n",
    "for m in models:\n",
    "    score=cross_val_score(m,x,y,cv=10,scoring='r2')\n",
    "    print('Model : ',m)\n",
    "    print('Score : ',score)\n",
    "    print('Mean score : ',score.mean())\n",
    "    print('Standard deviation : ',score.std())\n",
    "    print('**************************************************************')\n",
    "    print('\\n\\n')"
   ]
  },
  {
   "cell_type": "markdown",
   "metadata": {},
   "source": [
    "## Using Ensemble Models"
   ]
  },
  {
   "cell_type": "code",
   "execution_count": 88,
   "metadata": {},
   "outputs": [],
   "source": [
    "from sklearn.ensemble import RandomForestRegressor\n",
    "from sklearn.ensemble import AdaBoostRegressor\n",
    "from sklearn.ensemble import GradientBoostingRegressor\n",
    "from sklearn.ensemble import BaggingRegressor\n",
    "from sklearn.ensemble import ExtraTreesRegressor"
   ]
  },
  {
   "cell_type": "code",
   "execution_count": 89,
   "metadata": {
    "scrolled": true
   },
   "outputs": [
    {
     "name": "stdout",
     "output_type": "stream",
     "text": [
      "Score of  RandomForestRegressor(bootstrap=True, ccp_alpha=0.0, criterion='mse',\n",
      "                      max_depth=None, max_features='auto', max_leaf_nodes=None,\n",
      "                      max_samples=None, min_impurity_decrease=0.0,\n",
      "                      min_impurity_split=None, min_samples_leaf=1,\n",
      "                      min_samples_split=2, min_weight_fraction_leaf=0.0,\n",
      "                      n_estimators=100, n_jobs=None, oob_score=False,\n",
      "                      random_state=None, verbose=0, warm_start=False)  is:  0.769301961861967\n",
      "ERROR:\n",
      "Mean absolute error :  133.22677316172062\n",
      "Mean squared error :  30751.336091386078\n",
      "Root mean squared error :  175.36058876322832\n",
      "R2 score :  0.10727440999224191\n",
      "*********************************************************************\n",
      "\n",
      "\n",
      "\n",
      "Score of  AdaBoostRegressor(base_estimator=None, learning_rate=1.0, loss='linear',\n",
      "                  n_estimators=50, random_state=None)  is:  0.1297536058453176\n",
      "ERROR:\n",
      "Mean absolute error :  145.16439893661027\n",
      "Mean squared error :  30653.195562515943\n",
      "Root mean squared error :  175.08054021654132\n",
      "R2 score :  0.11012347519314569\n",
      "*********************************************************************\n",
      "\n",
      "\n",
      "\n",
      "Score of  GradientBoostingRegressor(alpha=0.9, ccp_alpha=0.0, criterion='friedman_mse',\n",
      "                          init=None, learning_rate=0.1, loss='ls', max_depth=3,\n",
      "                          max_features=None, max_leaf_nodes=None,\n",
      "                          min_impurity_decrease=0.0, min_impurity_split=None,\n",
      "                          min_samples_leaf=1, min_samples_split=2,\n",
      "                          min_weight_fraction_leaf=0.0, n_estimators=100,\n",
      "                          n_iter_no_change=None, presort='deprecated',\n",
      "                          random_state=None, subsample=1.0, tol=0.0001,\n",
      "                          validation_fraction=0.1, verbose=0, warm_start=False)  is:  0.3253015993896369\n",
      "ERROR:\n",
      "Mean absolute error :  125.50924668473203\n",
      "Mean squared error :  26288.833750752496\n",
      "Root mean squared error :  162.1383167260364\n",
      "R2 score :  0.23682292857088783\n",
      "*********************************************************************\n",
      "\n",
      "\n",
      "\n",
      "Score of  BaggingRegressor(base_estimator=None, bootstrap=True, bootstrap_features=False,\n",
      "                 max_features=1.0, max_samples=1.0, n_estimators=10,\n",
      "                 n_jobs=None, oob_score=False, random_state=None, verbose=0,\n",
      "                 warm_start=False)  is:  0.7252452050366565\n",
      "ERROR:\n",
      "Mean absolute error :  134.40008585855182\n",
      "Mean squared error :  31720.273884557893\n",
      "Root mean squared error :  178.10186378743455\n",
      "R2 score :  0.07914569517739445\n",
      "*********************************************************************\n",
      "\n",
      "\n",
      "\n",
      "Score of  ExtraTreesRegressor(bootstrap=False, ccp_alpha=0.0, criterion='mse',\n",
      "                    max_depth=None, max_features='auto', max_leaf_nodes=None,\n",
      "                    max_samples=None, min_impurity_decrease=0.0,\n",
      "                    min_impurity_split=None, min_samples_leaf=1,\n",
      "                    min_samples_split=2, min_weight_fraction_leaf=0.0,\n",
      "                    n_estimators=100, n_jobs=None, oob_score=False,\n",
      "                    random_state=None, verbose=0, warm_start=False)  is:  0.8646853219414393\n",
      "ERROR:\n",
      "Mean absolute error :  139.53693741458292\n",
      "Mean squared error :  34907.23884989248\n",
      "Root mean squared error :  186.83479025570284\n",
      "R2 score :  -0.013373380109526822\n",
      "*********************************************************************\n",
      "\n",
      "\n",
      "\n"
     ]
    }
   ],
   "source": [
    "# Using algorithm via for loop\n",
    "model=[RandomForestRegressor(),AdaBoostRegressor(),GradientBoostingRegressor(),BaggingRegressor(),ExtraTreesRegressor()]\n",
    "for m in model:\n",
    "    m.fit(x_train,y_train)\n",
    "    print('Score of ',m,' is: ',m.score(x_train,y_train))\n",
    "    pred=m.predict(x_test)\n",
    "    print('ERROR:')\n",
    "    print('Mean absolute error : ',mean_absolute_error(y_test,pred))\n",
    "    print('Mean squared error : ',mean_squared_error(y_test,pred))\n",
    "    print('Root mean squared error : ',np.sqrt(mean_squared_error(y_test,pred)))\n",
    "    print('R2 score : ',r2_score(y_test,pred))\n",
    "    print('*********************************************************************')\n",
    "    print('\\n\\n')"
   ]
  },
  {
   "cell_type": "code",
   "execution_count": 90,
   "metadata": {
    "scrolled": true
   },
   "outputs": [
    {
     "name": "stdout",
     "output_type": "stream",
     "text": [
      "Model :  RandomForestRegressor(bootstrap=True, ccp_alpha=0.0, criterion='mse',\n",
      "                      max_depth=None, max_features='auto', max_leaf_nodes=None,\n",
      "                      max_samples=None, min_impurity_decrease=0.0,\n",
      "                      min_impurity_split=None, min_samples_leaf=1,\n",
      "                      min_samples_split=2, min_weight_fraction_leaf=0.0,\n",
      "                      n_estimators=100, n_jobs=None, oob_score=False,\n",
      "                      random_state=None, verbose=0, warm_start=False)\n",
      "Score :  [0.08988541 0.06050569 0.11231002 0.01329644 0.12139569 0.06517496\n",
      " 0.15365134 0.06828199 0.08785768 0.05692337]\n",
      "Mean score :  0.08292825807071655\n",
      "Standard deviation :  0.03738287831151516\n",
      "**************************************************************\n",
      "\n",
      "\n",
      "\n",
      "Model :  AdaBoostRegressor(base_estimator=None, learning_rate=1.0, loss='linear',\n",
      "                  n_estimators=50, random_state=None)\n",
      "Score :  [0.11310787 0.05256928 0.14199205 0.08176123 0.13802935 0.1204761\n",
      " 0.10085239 0.10808355 0.11348332 0.02576868]\n",
      "Mean score :  0.09961238153148758\n",
      "Standard deviation :  0.03484197773269555\n",
      "**************************************************************\n",
      "\n",
      "\n",
      "\n",
      "Model :  GradientBoostingRegressor(alpha=0.9, ccp_alpha=0.0, criterion='friedman_mse',\n",
      "                          init=None, learning_rate=0.1, loss='ls', max_depth=3,\n",
      "                          max_features=None, max_leaf_nodes=None,\n",
      "                          min_impurity_decrease=0.0, min_impurity_split=None,\n",
      "                          min_samples_leaf=1, min_samples_split=2,\n",
      "                          min_weight_fraction_leaf=0.0, n_estimators=100,\n",
      "                          n_iter_no_change=None, presort='deprecated',\n",
      "                          random_state=None, subsample=1.0, tol=0.0001,\n",
      "                          validation_fraction=0.1, verbose=0, warm_start=False)\n",
      "Score :  [0.2177445  0.20083242 0.22413377 0.17412255 0.24458846 0.23490281\n",
      " 0.23528241 0.15789761 0.17456978 0.21230509]\n",
      "Mean score :  0.20763793985247453\n",
      "Standard deviation :  0.02829517139611856\n",
      "**************************************************************\n",
      "\n",
      "\n",
      "\n",
      "Model :  BaggingRegressor(base_estimator=None, bootstrap=True, bootstrap_features=False,\n",
      "                 max_features=1.0, max_samples=1.0, n_estimators=10,\n",
      "                 n_jobs=None, oob_score=False, random_state=None, verbose=0,\n",
      "                 warm_start=False)\n",
      "Score :  [-0.00260198  0.01320416  0.10815192 -0.02921583  0.07615675  0.01978363\n",
      "  0.12979533 -0.00677124  0.05804843  0.00566247]\n",
      "Mean score :  0.03722136296278977\n",
      "Standard deviation :  0.05036151979742922\n",
      "**************************************************************\n",
      "\n",
      "\n",
      "\n",
      "Model :  ExtraTreesRegressor(bootstrap=False, ccp_alpha=0.0, criterion='mse',\n",
      "                    max_depth=None, max_features='auto', max_leaf_nodes=None,\n",
      "                    max_samples=None, min_impurity_decrease=0.0,\n",
      "                    min_impurity_split=None, min_samples_leaf=1,\n",
      "                    min_samples_split=2, min_weight_fraction_leaf=0.0,\n",
      "                    n_estimators=100, n_jobs=None, oob_score=False,\n",
      "                    random_state=None, verbose=0, warm_start=False)\n",
      "Score :  [-0.01359921 -0.0467495   0.0128609  -0.12330288 -0.01951701 -0.02684242\n",
      "  0.01049254 -0.05629914 -0.01197885 -0.03650988]\n",
      "Mean score :  -0.031144544811472143\n",
      "Standard deviation :  0.03727896245255772\n",
      "**************************************************************\n",
      "\n",
      "\n",
      "\n"
     ]
    }
   ],
   "source": [
    "# cross validate the models\n",
    "models = [RandomForestRegressor(),AdaBoostRegressor(),GradientBoostingRegressor(),BaggingRegressor(),ExtraTreesRegressor()]\n",
    "for m in models:\n",
    "    score=cross_val_score(m,x,y,cv=10,scoring='r2')\n",
    "    print('Model : ',m)\n",
    "    print('Score : ',score)\n",
    "    print('Mean score : ',score.mean())\n",
    "    print('Standard deviation : ',score.std())\n",
    "    print('**************************************************************')\n",
    "    print('\\n\\n')"
   ]
  },
  {
   "cell_type": "markdown",
   "metadata": {},
   "source": [
    "GradientBoostingRegressor gives the best scores for this dataset"
   ]
  },
  {
   "cell_type": "code",
   "execution_count": 92,
   "metadata": {},
   "outputs": [
    {
     "name": "stdout",
     "output_type": "stream",
     "text": [
      "Mean absolute error :  125.48856499501629\n",
      "Mean squared error :  26251.89219056768\n",
      "Root mean squared error :  162.024356781836\n",
      "R2 score :  0.23789535924556782\n"
     ]
    }
   ],
   "source": [
    "# GradientBoostingRegressor\n",
    "GB = GradientBoostingRegressor()\n",
    "GB.fit(x_train,y_train)\n",
    "pred_gb = GB.predict(x_test)\n",
    "print('Mean absolute error : ',mean_absolute_error(y_test,pred_gb))\n",
    "print('Mean squared error : ',mean_squared_error(y_test,pred_gb))\n",
    "print('Root mean squared error : ',np.sqrt(mean_squared_error(y_test,pred_gb)))\n",
    "print('R2 score : ',r2_score(y_test,pred_gb))"
   ]
  },
  {
   "cell_type": "markdown",
   "metadata": {},
   "source": [
    "## Saving Predictions to a csv file"
   ]
  },
  {
   "cell_type": "code",
   "execution_count": 93,
   "metadata": {},
   "outputs": [
    {
     "data": {
      "text/html": [
       "<div>\n",
       "<style scoped>\n",
       "    .dataframe tbody tr th:only-of-type {\n",
       "        vertical-align: middle;\n",
       "    }\n",
       "\n",
       "    .dataframe tbody tr th {\n",
       "        vertical-align: top;\n",
       "    }\n",
       "\n",
       "    .dataframe thead th {\n",
       "        text-align: right;\n",
       "    }\n",
       "</style>\n",
       "<table border=\"1\" class=\"dataframe\">\n",
       "  <thead>\n",
       "    <tr style=\"text-align: right;\">\n",
       "      <th></th>\n",
       "      <th>Fees</th>\n",
       "    </tr>\n",
       "  </thead>\n",
       "  <tbody>\n",
       "    <tr>\n",
       "      <th>0</th>\n",
       "      <td>195.190052</td>\n",
       "    </tr>\n",
       "    <tr>\n",
       "      <th>1</th>\n",
       "      <td>235.775155</td>\n",
       "    </tr>\n",
       "    <tr>\n",
       "      <th>2</th>\n",
       "      <td>392.389756</td>\n",
       "    </tr>\n",
       "    <tr>\n",
       "      <th>3</th>\n",
       "      <td>323.870458</td>\n",
       "    </tr>\n",
       "    <tr>\n",
       "      <th>4</th>\n",
       "      <td>350.026014</td>\n",
       "    </tr>\n",
       "    <tr>\n",
       "      <th>...</th>\n",
       "      <td>...</td>\n",
       "    </tr>\n",
       "    <tr>\n",
       "      <th>1188</th>\n",
       "      <td>333.355627</td>\n",
       "    </tr>\n",
       "    <tr>\n",
       "      <th>1189</th>\n",
       "      <td>278.314171</td>\n",
       "    </tr>\n",
       "    <tr>\n",
       "      <th>1190</th>\n",
       "      <td>225.665416</td>\n",
       "    </tr>\n",
       "    <tr>\n",
       "      <th>1191</th>\n",
       "      <td>281.580800</td>\n",
       "    </tr>\n",
       "    <tr>\n",
       "      <th>1192</th>\n",
       "      <td>275.339028</td>\n",
       "    </tr>\n",
       "  </tbody>\n",
       "</table>\n",
       "<p>1193 rows × 1 columns</p>\n",
       "</div>"
      ],
      "text/plain": [
       "            Fees\n",
       "0     195.190052\n",
       "1     235.775155\n",
       "2     392.389756\n",
       "3     323.870458\n",
       "4     350.026014\n",
       "...          ...\n",
       "1188  333.355627\n",
       "1189  278.314171\n",
       "1190  225.665416\n",
       "1191  281.580800\n",
       "1192  275.339028\n",
       "\n",
       "[1193 rows x 1 columns]"
      ]
     },
     "execution_count": 93,
     "metadata": {},
     "output_type": "execute_result"
    }
   ],
   "source": [
    "predgb = pd.DataFrame(pred_gb)\n",
    "predgb = predgb.rename(columns={0: 'Fees'})\n",
    "predgb"
   ]
  },
  {
   "cell_type": "code",
   "execution_count": 94,
   "metadata": {},
   "outputs": [],
   "source": [
    "predgb.to_csv(r'Doctors_Fees_Train.csv',index=False)"
   ]
  },
  {
   "cell_type": "markdown",
   "metadata": {},
   "source": [
    "## Predicting for Test dataset"
   ]
  },
  {
   "cell_type": "code",
   "execution_count": 95,
   "metadata": {},
   "outputs": [],
   "source": [
    "# Predicting for the test dataset using GradientBoostingRegressor model\n",
    "pred_test = GB.predict(df_test)"
   ]
  },
  {
   "cell_type": "code",
   "execution_count": 96,
   "metadata": {},
   "outputs": [
    {
     "data": {
      "text/html": [
       "<div>\n",
       "<style scoped>\n",
       "    .dataframe tbody tr th:only-of-type {\n",
       "        vertical-align: middle;\n",
       "    }\n",
       "\n",
       "    .dataframe tbody tr th {\n",
       "        vertical-align: top;\n",
       "    }\n",
       "\n",
       "    .dataframe thead th {\n",
       "        text-align: right;\n",
       "    }\n",
       "</style>\n",
       "<table border=\"1\" class=\"dataframe\">\n",
       "  <thead>\n",
       "    <tr style=\"text-align: right;\">\n",
       "      <th></th>\n",
       "      <th>Fees</th>\n",
       "    </tr>\n",
       "  </thead>\n",
       "  <tbody>\n",
       "    <tr>\n",
       "      <th>0</th>\n",
       "      <td>663.719562</td>\n",
       "    </tr>\n",
       "    <tr>\n",
       "      <th>1</th>\n",
       "      <td>634.729794</td>\n",
       "    </tr>\n",
       "    <tr>\n",
       "      <th>2</th>\n",
       "      <td>605.820132</td>\n",
       "    </tr>\n",
       "    <tr>\n",
       "      <th>3</th>\n",
       "      <td>315.458769</td>\n",
       "    </tr>\n",
       "    <tr>\n",
       "      <th>4</th>\n",
       "      <td>329.150382</td>\n",
       "    </tr>\n",
       "    <tr>\n",
       "      <th>...</th>\n",
       "      <td>...</td>\n",
       "    </tr>\n",
       "    <tr>\n",
       "      <th>1982</th>\n",
       "      <td>288.045756</td>\n",
       "    </tr>\n",
       "    <tr>\n",
       "      <th>1983</th>\n",
       "      <td>278.561764</td>\n",
       "    </tr>\n",
       "    <tr>\n",
       "      <th>1984</th>\n",
       "      <td>326.237358</td>\n",
       "    </tr>\n",
       "    <tr>\n",
       "      <th>1985</th>\n",
       "      <td>286.751871</td>\n",
       "    </tr>\n",
       "    <tr>\n",
       "      <th>1986</th>\n",
       "      <td>313.415639</td>\n",
       "    </tr>\n",
       "  </tbody>\n",
       "</table>\n",
       "<p>1987 rows × 1 columns</p>\n",
       "</div>"
      ],
      "text/plain": [
       "            Fees\n",
       "0     663.719562\n",
       "1     634.729794\n",
       "2     605.820132\n",
       "3     315.458769\n",
       "4     329.150382\n",
       "...          ...\n",
       "1982  288.045756\n",
       "1983  278.561764\n",
       "1984  326.237358\n",
       "1985  286.751871\n",
       "1986  313.415639\n",
       "\n",
       "[1987 rows x 1 columns]"
      ]
     },
     "execution_count": 96,
     "metadata": {},
     "output_type": "execute_result"
    }
   ],
   "source": [
    "# Saving predictins to CSV file\n",
    "pred_test = pd.DataFrame(pred_test)\n",
    "pred_test = pred_test.rename(columns={0: 'Fees'})\n",
    "pred_test"
   ]
  },
  {
   "cell_type": "code",
   "execution_count": 97,
   "metadata": {},
   "outputs": [],
   "source": [
    "pred_test.to_csv(r'Doctors_Fees_Test.csv',index=False)"
   ]
  },
  {
   "cell_type": "markdown",
   "metadata": {},
   "source": [
    "# Saving the model"
   ]
  },
  {
   "cell_type": "code",
   "execution_count": 98,
   "metadata": {},
   "outputs": [
    {
     "data": {
      "text/plain": [
       "['Doctors_Fees.pkl']"
      ]
     },
     "execution_count": 98,
     "metadata": {},
     "output_type": "execute_result"
    }
   ],
   "source": [
    "from sklearn.externals import joblib\n",
    "joblib.dump(GB,'Doctors_Fees.pkl')"
   ]
  }
 ],
 "metadata": {
  "kernelspec": {
   "display_name": "Python 3",
   "language": "python",
   "name": "python3"
  },
  "language_info": {
   "codemirror_mode": {
    "name": "ipython",
    "version": 3
   },
   "file_extension": ".py",
   "mimetype": "text/x-python",
   "name": "python",
   "nbconvert_exporter": "python",
   "pygments_lexer": "ipython3",
   "version": "3.7.6"
  }
 },
 "nbformat": 4,
 "nbformat_minor": 4
}
